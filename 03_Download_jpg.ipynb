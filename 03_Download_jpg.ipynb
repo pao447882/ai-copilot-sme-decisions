{
 "cells": [
  {
   "cell_type": "code",
   "execution_count": null,
   "id": "5600c241-904d-4eef-9011-a8bd1cc18c6c",
   "metadata": {
    "execution": {
     "iopub.execute_input": "2025-08-14T01:57:11.297566Z",
     "iopub.status.busy": "2025-08-14T01:57:11.297566Z",
     "iopub.status.idle": "2025-08-14T01:57:11.328953Z",
     "shell.execute_reply": "2025-08-14T01:57:11.328953Z"
    },
    "papermill": {
     "duration": 0.038403,
     "end_time": "2025-08-14T01:57:11.330964",
     "exception": false,
     "start_time": "2025-08-14T01:57:11.292561",
     "status": "completed"
    },
    "tags": []
   },
   "outputs": [],
   "source": [
    "import json\n",
    "import base64\n",
    "import os\n",
    "\n",
    "notebook_path = '00_EDA_Linear_Prophet.ipynb' \n",
    "\n",
    "output_dir = 'downloaded_images'\n",
    "os.makedirs(output_dir, exist_ok=True)\n",
    "\n",
    "image_counter = 1\n",
    "\n",
    "try:\n",
    "    with open(notebook_path, 'r', encoding='utf-8') as f:\n",
    "        notebook_data = json.load(f)\n",
    "except FileNotFoundError:\n",
    "    print(f\"Error: ไม่พบไฟล์ '{notebook_path}' กรุณาตรวจสอบชื่อไฟล์และตำแหน่งที่ถูกต้อง\")\n",
    "    notebook_data = None\n",
    "\n",
    "if notebook_data:\n",
    "    for cell in notebook_data['cells']:\n",
    "        if cell['cell_type'] == 'code' and 'outputs' in cell:\n",
    "            for output in cell['outputs']:\n",
    "                if 'data' in output and any(key.startswith('image/') for key in output['data']):\n",
    "                    for mime_type, encoded_data in output['data'].items():\n",
    "                        if mime_type.startswith('image/'):\n",
    "                            # ถอดรหัส base64\n",
    "                            image_data = base64.b64decode(encoded_data)\n",
    "                            \n",
    "                            # ตั้งชื่อไฟล์และนามสกุล\n",
    "                            extension = mime_type.split('/')[-1]\n",
    "                            file_path = os.path.join(output_dir, f\"{image_counter}.{extension}\")\n",
    "                            \n",
    "                            # บันทึกไฟล์\n",
    "                            with open(file_path, 'wb') as img_file:\n",
    "                                img_file.write(image_data)\n",
    "                            \n",
    "                            print(f\"✅ บันทึกรูปภาพ {file_path} เรียบร้อยแล้ว\")\n",
    "                            image_counter += 1\n",
    "\n",
    "        if cell['cell_type'] == 'markdown' and 'attachments' in cell:\n",
    "            for filename, attachment in cell['attachments'].items():\n",
    "                for mime_type, encoded_data in attachment.items():\n",
    "                     if mime_type.startswith('image/'):\n",
    "                        # ถอดรหัส base64\n",
    "                        image_data = base64.b64decode(encoded_data)\n",
    "                        \n",
    "                        extension = mime_type.split('/')[-1]\n",
    "                        file_path = os.path.join(output_dir, f\"{image_counter}.{extension}\")\n",
    "                        \n",
    "                        with open(file_path, 'wb') as img_file:\n",
    "                            img_file.write(image_data)\n",
    "                        \n",
    "                        print(f\"บันทึกรูปภาพ {file_path} เรียบร้อยแล้ว\")\n",
    "                        image_counter += 1\n",
    "\n",
    "    if image_counter == 1:\n",
    "        print(\"ไม่พบรูปภาพใน notebook นี้\")\n",
    "    else:\n",
    "        print(f\"\\nดาวน์โหลดรูปภาพทั้งหมด {image_counter - 1} รูป เสร็จสิ้น!\")"
   ]
  },
  {
   "cell_type": "code",
   "execution_count": null,
   "id": "bce00f90-90b6-4c7b-b239-94ae6119f983",
   "metadata": {
    "papermill": {
     "duration": 0.005015,
     "end_time": "2025-08-14T01:57:11.339977",
     "exception": false,
     "start_time": "2025-08-14T01:57:11.334962",
     "status": "completed"
    },
    "tags": []
   },
   "outputs": [],
   "source": []
  }
 ],
 "metadata": {
  "kernelspec": {
   "display_name": "Python [conda env:base] *",
   "language": "python",
   "name": "conda-base-py"
  },
  "language_info": {
   "codemirror_mode": {
    "name": "ipython",
    "version": 3
   },
   "file_extension": ".py",
   "mimetype": "text/x-python",
   "name": "python",
   "nbconvert_exporter": "python",
   "pygments_lexer": "ipython3",
   "version": "3.12.7"
  },
  "papermill": {
   "default_parameters": {},
   "duration": 1.513918,
   "end_time": "2025-08-14T01:57:11.475570",
   "environment_variables": {},
   "exception": null,
   "input_path": "C:\\Users\\pao5_\\Pao_Project\\nd_1click\\01_sales\\01_Download_jpg.ipynb",
   "output_path": "C:\\Users\\pao5_\\Pao_Project\\nd_1click\\01_sales\\01_Download_jpg.ipynb",
   "parameters": {},
   "start_time": "2025-08-14T01:57:09.961652",
   "version": "2.6.0"
  }
 },
 "nbformat": 4,
 "nbformat_minor": 5
}
