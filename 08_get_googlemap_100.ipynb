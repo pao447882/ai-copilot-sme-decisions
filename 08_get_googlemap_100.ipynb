{
 "cells": [
  {
   "cell_type": "code",
   "execution_count": null,
   "id": "ce64c8c9-9d84-4387-b175-1dbeed467374",
   "metadata": {
    "execution": {
     "iopub.execute_input": "2025-08-14T02:01:30.946030Z",
     "iopub.status.busy": "2025-08-14T02:01:30.946030Z",
     "iopub.status.idle": "2025-08-14T02:01:32.470441Z",
     "shell.execute_reply": "2025-08-14T02:01:32.470441Z"
    },
    "papermill": {
     "duration": 1.53341,
     "end_time": "2025-08-14T02:01:32.473452",
     "exception": false,
     "start_time": "2025-08-14T02:01:30.940042",
     "status": "completed"
    },
    "tags": []
   },
   "outputs": [],
   "source": [
    "import pandas as pd\n",
    "\n",
    "sheet_id = \"\"\n",
    "sheet_gid = \"\"\n",
    "\n",
    "# 2. สร้าง URL สำหรับ export ชีทที่ต้องการเป็น CSV โดยเฉพาะ\n",
    "csv_export_url = f\"https://docs.google.com/spreadsheets/d/{sheet_id}/export?format=csv&gid={sheet_gid}\"\n",
    "\n",
    "# 3. ใช้ pandas อ่านไฟล์ CSV จาก URL ที่สร้างขึ้น\n",
    "try:\n",
    "    # อ่านข้อมูลจาก URL (ไม่ต้องใช้ sheet_name แล้ว)\n",
    "    df = pd.read_csv(csv_export_url)\n",
    "    \n",
    "    print(\"ดึงข้อมูลสำเร็จ\")\n",
    "    # แสดง 5 แถวแรกของข้อมูล\n",
    "    print(df.head())\n",
    "\n",
    "except Exception as e:\n",
    "    print(f\"เกิดข้อผิดพลาด: {e}\")\n",
    "    print(\"โปรดตรวจสอบว่า:\")\n",
    "    print(\"- ใส่ sheet_id และ sheet_gid ถูกต้อง\")\n",
    "    print(\"- ไฟล์ Google Sheet ได้แชร์เป็น 'ทุกคนที่มีลิงก์' (Anyone with the link) แล้ว\")"
   ]
  },
  {
   "cell_type": "code",
   "execution_count": null,
   "id": "47178321-8778-4ce4-b359-f065a43738ce",
   "metadata": {
    "execution": {
     "iopub.execute_input": "2025-08-14T02:01:32.487444Z",
     "iopub.status.busy": "2025-08-14T02:01:32.487444Z",
     "iopub.status.idle": "2025-08-14T02:01:32.676536Z",
     "shell.execute_reply": "2025-08-14T02:01:32.676536Z"
    },
    "papermill": {
     "duration": 0.200642,
     "end_time": "2025-08-14T02:01:32.681094",
     "exception": false,
     "start_time": "2025-08-14T02:01:32.480452",
     "status": "completed"
    },
    "tags": []
   },
   "outputs": [],
   "source": [
    "df.to_excel(\"ggmap_review.xlsx\", index=False)"
   ]
  }
 ],
 "metadata": {
  "kernelspec": {
   "display_name": "Python [conda env:base] *",
   "language": "python",
   "name": "conda-base-py"
  },
  "language_info": {
   "codemirror_mode": {
    "name": "ipython",
    "version": 3
   },
   "file_extension": ".py",
   "mimetype": "text/x-python",
   "name": "python",
   "nbconvert_exporter": "python",
   "pygments_lexer": "ipython3",
   "version": "3.12.7"
  },
  "papermill": {
   "default_parameters": {},
   "duration": 3.355165,
   "end_time": "2025-08-14T02:01:32.933041",
   "environment_variables": {},
   "exception": null,
   "input_path": "C:\\Users\\pao5_\\Pao_Project\\nd_1click\\03_google_review\\get_googlemap_100.ipynb",
   "output_path": "C:\\Users\\pao5_\\Pao_Project\\nd_1click\\03_google_review\\get_googlemap_100.ipynb",
   "parameters": {},
   "start_time": "2025-08-14T02:01:29.577876",
   "version": "2.6.0"
  }
 },
 "nbformat": 4,
 "nbformat_minor": 5
}
