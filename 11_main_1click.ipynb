{
 "cells": [
  {
   "cell_type": "code",
   "execution_count": null,
   "id": "42002565-bdc9-4976-bdd6-e019bd1c545a",
   "metadata": {},
   "outputs": [],
   "source": [
    "#!pip install papermill"
   ]
  },
  {
   "cell_type": "code",
   "execution_count": null,
   "id": "8f85b6e4-08ae-4bc9-940f-beecf6cba1c6",
   "metadata": {},
   "outputs": [],
   "source": [
    "import papermill as pm\n",
    "import os\n",
    "import traceback\n",
    "\n",
    "# 1. กำหนดรายการและลำดับของ Notebooks ที่จะรัน\n",
    "notebook_paths = []\n",
    "\n",
    "result_file_path = r\"\"\n",
    "\n",
    "# 2. Notebook loop\n",
    "print(\"เริ่มกระบวนการรัน Notebook ทั้งหมด...\\n\")\n",
    "execution_successful = True\n",
    "\n",
    "for i, path in enumerate(notebook_paths):\n",
    "    notebook_name = os.path.basename(path)\n",
    "    notebook_dir = os.path.dirname(path)\n",
    "    \n",
    "    print(f\"[{i+1}/{len(notebook_paths)}] กำลังรัน: {notebook_name}\")\n",
    "    print(f\"    - Working Directory: {notebook_dir}\")\n",
    "    \n",
    "    if not os.path.exists(path):\n",
    "        print(f\"ERROR: ไม่พบไฟล์ Notebook ที่: {path}\")\n",
    "        execution_successful = False\n",
    "        break\n",
    "        \n",
    "    try:\n",
    "        pm.execute_notebook(\n",
    "            input_path=path,\n",
    "            output_path=path,\n",
    "            kernel_name='python3',\n",
    "            cwd=notebook_dir \n",
    "        )\n",
    "        print(f\"[{i+1}/{len(notebook_paths)}] รันสำเร็จ: {notebook_name}\\n\")\n",
    "    except Exception as e:\n",
    "        print(f\"ERROR: เกิดข้อผิดพลาดขณะรัน {notebook_name}\")\n",
    "        print(\"\\n--- Error Details ---\")\n",
    "        traceback.print_exc()\n",
    "        print(\"---------------------\\n\")\n",
    "        execution_successful = False\n",
    "        break\n",
    "\n",
    "# 3. ส่วนอ่านไฟล์ผลลัพธ์\n",
    "if execution_successful:\n",
    "    print(\"รัน Notebook ทุกไฟล์สำเร็จแล้ว!\\n\")\n",
    "    \n",
    "    # --- ส่วนที่เพิ่มเข้ามาเพื่ออ่านและแสดงผลไฟล์ AI_result.txt ---\n",
    "    print(f\"กำลังอ่านไฟล์ผลลัพธ์จาก: {result_file_path}\")\n",
    "    try:\n",
    "        # ใช้ encoding='utf-8' เพื่อรองรับภาษาไทย\n",
    "        with open(result_file_path, 'r', encoding='utf-8') as f:\n",
    "            file_content = f.read()\n",
    "            print(\"\\n\" + \"=\"*20 + \" ผลลัพธ์จาก AI_result.txt \" + \"=\"*20)\n",
    "            print(file_content)\n",
    "            print(\"=\"*65 + \"\\n\")\n",
    "            \n",
    "    except FileNotFoundError:\n",
    "        print(f\"คำเตือน: ไม่พบไฟล์ผลลัพธ์ที่: {result_file_path}\")\n",
    "        print(\"กรุณาตรวจสอบว่า Notebook 'AI_analysis.ipynb' ได้สร้างไฟล์นี้ขึ้นมาอย่างถูกต้องหรือไม่\")\n",
    "    except Exception as e:\n",
    "        print(f\"ERROR: ไม่สามารถอ่านไฟล์ผลลัพธ์ได้เนื่องจาก: {e}\")\n",
    "    # -------------------------------------------------------------\n",
    "\n",
    "else:\n",
    "    print(\"กระบวนการหยุดทำงานเนื่องจากเกิดข้อผิดพลาด\")"
   ]
  },
  {
   "cell_type": "code",
   "execution_count": null,
   "id": "3d998fb1-e028-46c8-9fec-f223f2b3ecb0",
   "metadata": {},
   "outputs": [],
   "source": []
  },
  {
   "cell_type": "code",
   "execution_count": null,
   "id": "91887f50-fbdb-493d-9b17-b3938992369c",
   "metadata": {},
   "outputs": [],
   "source": []
  }
 ],
 "metadata": {
  "kernelspec": {
   "display_name": "Python [conda env:base] *",
   "language": "python",
   "name": "conda-base-py"
  },
  "language_info": {
   "codemirror_mode": {
    "name": "ipython",
    "version": 3
   },
   "file_extension": ".py",
   "mimetype": "text/x-python",
   "name": "python",
   "nbconvert_exporter": "python",
   "pygments_lexer": "ipython3",
   "version": "3.12.7"
  }
 },
 "nbformat": 4,
 "nbformat_minor": 5
}
