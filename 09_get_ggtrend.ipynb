{
 "cells": [
  {
   "cell_type": "code",
   "execution_count": null,
   "id": "51f3ecce-8fbe-4b9e-9a7f-2df6a8f68d5f",
   "metadata": {
    "execution": {
     "iopub.execute_input": "2025-08-14T02:01:54.358429Z",
     "iopub.status.busy": "2025-08-14T02:01:54.356420Z",
     "iopub.status.idle": "2025-08-14T02:02:11.892791Z",
     "shell.execute_reply": "2025-08-14T02:02:11.890762Z"
    },
    "papermill": {
     "duration": 17.549345,
     "end_time": "2025-08-14T02:02:11.895775",
     "exception": false,
     "start_time": "2025-08-14T02:01:54.346430",
     "status": "completed"
    },
    "tags": []
   },
   "outputs": [],
   "source": [
    "from selenium import webdriver\n",
    "from selenium.webdriver.common.by import By\n",
    "import time\n",
    "import os\n",
    "import pandas as pd\n",
    "\n",
    "# 1. ตั้งค่าโฟลเดอร์ดาวน์โหลดไฟล์ CSV ให้เป็นโฟลเดอร์เดียวกับ Notebook\n",
    "download_dir = os.getcwd() # <-- แก้ไขบรรทัดนี้\n",
    "\n",
    "# ตั้งค่า Chrome WebDriver\n",
    "options = webdriver.ChromeOptions()\n",
    "prefs = {\"download.default_directory\": download_dir} # บันทึกไฟล์ในโฟลเดอร์เดียวกับ Notebook\n",
    "options.add_experimental_option(\"prefs\", prefs)\n",
    "driver = webdriver.Chrome(options=options)\n",
    "\n",
    "# เข้าเว็บ Google Trends\n",
    "url = \"https://trends.google.co.th/trending?geo=TH\"\n",
    "driver.get(url)\n",
    "\n",
    "# รอให้หน้าเว็บโหลด\n",
    "time.sleep(5)\n",
    "\n",
    "# ค้นหาปุ่ม \"ส่งออก\" และใช้ JavaScript คลิก\n",
    "export_button = driver.find_element(By.XPATH, \"//button[contains(@aria-label, 'ส่งออก')]\")\n",
    "driver.execute_script(\"arguments[0].click();\", export_button)\n",
    "\n",
    "# รอให้เมนู dropdown ปรากฏ\n",
    "time.sleep(2)\n",
    "\n",
    "# ค้นหาปุ่ม \"ดาวน์โหลด CSV\" และใช้ JavaScript คลิก\n",
    "download_csv_button = driver.find_element(By.XPATH, \"//span[contains(text(), 'ดาวน์โหลด CSV')]\")\n",
    "driver.execute_script(\"arguments[0].click();\", download_csv_button)\n",
    "\n",
    "# รอให้ไฟล์ดาวน์โหลดเสร็จ\n",
    "time.sleep(5)\n",
    "\n",
    "# หาไฟล์ CSV ที่เพิ่งดาวน์โหลดล่าสุดในโฟลเดอร์ปัจจุบัน\n",
    "files = sorted(os.listdir(download_dir), key=lambda x: os.path.getctime(os.path.join(download_dir, x)), reverse=True)\n",
    "csv_file = [f for f in files if f.endswith(\".csv\")][0]  # หาไฟล์ .csv ล่าสุด\n",
    "\n",
    "# โหลดข้อมูลจาก CSV มาแสดง\n",
    "df = pd.read_csv(os.path.join(download_dir, csv_file))\n",
    "print(\"ดาวน์โหลดและอ่านข้อมูลเรียบร้อยแล้ว\")\n",
    "print(df.head())\n",
    "\n",
    "# ปิดเบราว์เซอร์\n",
    "driver.quit()"
   ]
  }
 ],
 "metadata": {
  "kernelspec": {
   "display_name": "Python [conda env:base] *",
   "language": "python",
   "name": "conda-base-py"
  },
  "language_info": {
   "codemirror_mode": {
    "name": "ipython",
    "version": 3
   },
   "file_extension": ".py",
   "mimetype": "text/x-python",
   "name": "python",
   "nbconvert_exporter": "python",
   "pygments_lexer": "ipython3",
   "version": "3.12.7"
  },
  "papermill": {
   "default_parameters": {},
   "duration": 41.581966,
   "end_time": "2025-08-14T02:02:14.567912",
   "environment_variables": {},
   "exception": null,
   "input_path": "C:\\Users\\pao5_\\Pao_Project\\nd_1click\\06_google_trend\\get_ggtrend.ipynb",
   "output_path": "C:\\Users\\pao5_\\Pao_Project\\nd_1click\\06_google_trend\\get_ggtrend.ipynb",
   "parameters": {},
   "start_time": "2025-08-14T02:01:32.985946",
   "version": "2.6.0"
  }
 },
 "nbformat": 4,
 "nbformat_minor": 5
}
