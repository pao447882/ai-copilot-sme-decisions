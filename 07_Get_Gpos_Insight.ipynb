{
 "cells": [
  {
   "cell_type": "code",
   "execution_count": null,
   "id": "b3ddeb19-4f93-4f85-a973-c55fc2356e83",
   "metadata": {
    "execution": {
     "iopub.execute_input": "2025-08-14T02:01:25.523972Z",
     "iopub.status.busy": "2025-08-14T02:01:25.523972Z",
     "iopub.status.idle": "2025-08-14T02:01:29.027861Z",
     "shell.execute_reply": "2025-08-14T02:01:29.027861Z"
    },
    "papermill": {
     "duration": 3.517667,
     "end_time": "2025-08-14T02:01:29.031647",
     "exception": false,
     "start_time": "2025-08-14T02:01:25.513980",
     "status": "completed"
    },
    "tags": []
   },
   "outputs": [],
   "source": [
    "import pandas as pd\n",
    "\n",
    "sheet_id = \"\"\n",
    "sheet_gid = \"\"\n",
    "\n",
    "# 2. สร้าง URL สำหรับ export ชีทที่ต้องการเป็น CSV โดยเฉพาะ\n",
    "csv_export_url = f\"https://docs.google.com/spreadsheets/d/{sheet_id}/export?format=csv&gid={sheet_gid}\"\n",
    "\n",
    "# 3. ใช้ pandas อ่านไฟล์ CSV จาก URL ที่สร้างขึ้น\n",
    "try:\n",
    "    # อ่านข้อมูลจาก URL (ไม่ต้องใช้ sheet_name แล้ว)\n",
    "    df = pd.read_csv(csv_export_url)\n",
    "    \n",
    "    print(\"ดึงข้อมูลสำเร็จ\")\n",
    "    # แสดง 5 แถวแรกของข้อมูล\n",
    "    print(df.head())\n",
    "\n",
    "except Exception as e:\n",
    "    print(f\"เกิดข้อผิดพลาด: {e}\")\n",
    "    print(\"โปรดตรวจสอบว่า:\")\n",
    "    print(\"- ใส่ sheet_id และ sheet_gid ถูกต้อง\")\n",
    "    print(\"- ไฟล์ Google Sheet ได้แชร์เป็น 'ทุกคนที่มีลิงก์' (Anyone with the link) แล้ว\")"
   ]
  },
  {
   "cell_type": "code",
   "execution_count": null,
   "id": "f7a2afce-f616-4342-aaa2-01a631d19270",
   "metadata": {
    "execution": {
     "iopub.execute_input": "2025-08-14T02:01:29.048650Z",
     "iopub.status.busy": "2025-08-14T02:01:29.047651Z",
     "iopub.status.idle": "2025-08-14T02:01:29.219254Z",
     "shell.execute_reply": "2025-08-14T02:01:29.219254Z"
    },
    "papermill": {
     "duration": 0.182529,
     "end_time": "2025-08-14T02:01:29.223264",
     "exception": false,
     "start_time": "2025-08-14T02:01:29.040735",
     "status": "completed"
    },
    "tags": []
   },
   "outputs": [],
   "source": [
    "df.to_excel(\"gpos_insight.xlsx\", index=False)"
   ]
  }
 ],
 "metadata": {
  "kernelspec": {
   "display_name": "Python [conda env:base] *",
   "language": "python",
   "name": "conda-base-py"
  },
  "language_info": {
   "codemirror_mode": {
    "name": "ipython",
    "version": 3
   },
   "file_extension": ".py",
   "mimetype": "text/x-python",
   "name": "python",
   "nbconvert_exporter": "python",
   "pygments_lexer": "ipython3",
   "version": "3.12.7"
  },
  "papermill": {
   "default_parameters": {},
   "duration": 5.32306,
   "end_time": "2025-08-14T02:01:29.506511",
   "environment_variables": {},
   "exception": null,
   "input_path": "C:\\Users\\pao5_\\Pao_Project\\nd_1click\\02_gpos\\Get_Gpos_Insight.ipynb",
   "output_path": "C:\\Users\\pao5_\\Pao_Project\\nd_1click\\02_gpos\\Get_Gpos_Insight.ipynb",
   "parameters": {},
   "start_time": "2025-08-14T02:01:24.183451",
   "version": "2.6.0"
  }
 },
 "nbformat": 4,
 "nbformat_minor": 5
}
