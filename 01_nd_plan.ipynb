{
 "cells": [
  {
   "cell_type": "code",
   "execution_count": null,
   "id": "d050c048-4116-49af-9857-8fa9b5890795",
   "metadata": {
    "execution": {
     "iopub.execute_input": "2025-08-14T01:56:20.811442Z",
     "iopub.status.busy": "2025-08-14T01:56:20.811442Z",
     "iopub.status.idle": "2025-08-14T01:56:23.309761Z",
     "shell.execute_reply": "2025-08-14T01:56:23.309761Z"
    },
    "papermill": {
     "duration": 2.510503,
     "end_time": "2025-08-14T01:56:23.315793",
     "exception": false,
     "start_time": "2025-08-14T01:56:20.805290",
     "status": "completed"
    },
    "tags": []
   },
   "outputs": [],
   "source": [
    "import pandas as pd\n",
    "\n",
    "# 1. ใส่ ID ของ Google Sheet และ gid ของชีทที่คุณต้องการ\n",
    "sheet_id = \"\"\n",
    "sheet_gid = \"\"\n",
    "\n",
    "# 2. สร้าง URL สำหรับ export ชีทที่ต้องการเป็น CSV โดยเฉพาะ\n",
    "csv_export_url = f\"https://docs.google.com/spreadsheets/d/{sheet_id}/export?format=csv&gid={sheet_gid}\"\n",
    "\n",
    "# 3. ใช้ pandas อ่านไฟล์ CSV จาก URL ที่สร้างขึ้น\n",
    "try:\n",
    "    # อ่านข้อมูลจาก URL (ไม่ต้องใช้ sheet_name แล้ว)\n",
    "    df = pd.read_csv(csv_export_url)\n",
    "    \n",
    "    print(\"ดึงข้อมูลสำเร็จ\")\n",
    "    # แสดง 5 แถวแรกของข้อมูล\n",
    "    print(df.head())\n",
    "\n",
    "except Exception as e:\n",
    "    print(f\"เกิดข้อผิดพลาด: {e}\")\n",
    "    print(\"โปรดตรวจสอบว่า:\")\n",
    "    print(\"- ใส่ sheet_id และ sheet_gid ถูกต้อง\")\n",
    "    print(\"- ไฟล์ Google Sheet ได้แชร์เป็น 'ทุกคนที่มีลิงก์' (Anyone with the link) แล้ว\")"
   ]
  },
  {
   "cell_type": "code",
   "execution_count": null,
   "id": "fd7326b0-763f-40f5-918d-b65cfbf9d57c",
   "metadata": {
    "execution": {
     "iopub.execute_input": "2025-08-14T01:56:23.331326Z",
     "iopub.status.busy": "2025-08-14T01:56:23.331326Z",
     "iopub.status.idle": "2025-08-14T01:56:23.588102Z",
     "shell.execute_reply": "2025-08-14T01:56:23.588102Z"
    },
    "papermill": {
     "duration": 0.269331,
     "end_time": "2025-08-14T01:56:23.592124",
     "exception": false,
     "start_time": "2025-08-14T01:56:23.322793",
     "status": "completed"
    },
    "tags": []
   },
   "outputs": [],
   "source": [
    "df.to_excel(\"nd_plan.xlsx\", index=False)"
   ]
  }
 ],
 "metadata": {
  "kernelspec": {
   "display_name": "Python [conda env:base] *",
   "language": "python",
   "name": "conda-base-py"
  },
  "language_info": {
   "codemirror_mode": {
    "name": "ipython",
    "version": 3
   },
   "file_extension": ".py",
   "mimetype": "text/x-python",
   "name": "python",
   "nbconvert_exporter": "python",
   "pygments_lexer": "ipython3",
   "version": "3.12.7"
  },
  "papermill": {
   "default_parameters": {},
   "duration": 7.20097,
   "end_time": "2025-08-14T01:56:26.639569",
   "environment_variables": {},
   "exception": null,
   "input_path": "C:\\Users\\pao5_\\Pao_Project\\nd_1click\\00_nd_plan\\nd_plan.ipynb",
   "output_path": "C:\\Users\\pao5_\\Pao_Project\\nd_1click\\00_nd_plan\\nd_plan.ipynb",
   "parameters": {},
   "start_time": "2025-08-14T01:56:19.438599",
   "version": "2.6.0"
  }
 },
 "nbformat": 4,
 "nbformat_minor": 5
}
