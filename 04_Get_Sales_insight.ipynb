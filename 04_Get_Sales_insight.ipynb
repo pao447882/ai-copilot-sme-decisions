{
 "cells": [
  {
   "cell_type": "code",
   "execution_count": null,
   "id": "2c9855d7-3997-469e-9cc6-40bf371ddd50",
   "metadata": {
    "execution": {
     "iopub.execute_input": "2025-08-14T01:57:12.905694Z",
     "iopub.status.busy": "2025-08-14T01:57:12.905694Z",
     "iopub.status.idle": "2025-08-14T01:57:14.508984Z",
     "shell.execute_reply": "2025-08-14T01:57:14.508984Z"
    },
    "papermill": {
     "duration": 1.614321,
     "end_time": "2025-08-14T01:57:14.510989",
     "exception": false,
     "start_time": "2025-08-14T01:57:12.896668",
     "status": "completed"
    },
    "tags": []
   },
   "outputs": [],
   "source": [
    "import pandas as pd\n",
    "\n",
    "# 1. ID ของ Google Sheet และ gid \n",
    "sheet_id = \"\"\n",
    "sheet_gid = \"\"\n",
    "\n",
    "# 2. สร้าง URL สำหรับ export ชีทที่ต้องการเป็น CSV โดยเฉพาะ\n",
    "csv_export_url = f\"https://docs.google.com/spreadsheets/d/{sheet_id}/export?format=csv&gid={sheet_gid}\"\n",
    "\n",
    "# 3. ใช้ pandas อ่านไฟล์ CSV จาก URL ที่สร้างขึ้น\n",
    "try:\n",
    "    # อ่านข้อมูลจาก URL (ไม่ต้องใช้ sheet_name แล้ว)\n",
    "    df = pd.read_csv(csv_export_url)\n",
    "    \n",
    "    print(\"ดึงข้อมูลสำเร็จ\")\n",
    "    # แสดง 5 แถวแรกของข้อมูล\n",
    "    print(df.head())\n",
    "\n",
    "except Exception as e:\n",
    "    print(f\"เกิดข้อผิดพลาด: {e}\")\n",
    "    print(\"โปรดตรวจสอบว่า:\")\n",
    "    print(\"- ใส่ sheet_id และ sheet_gid ถูกต้อง\")\n",
    "    print(\"- ไฟล์ Google Sheet ได้แชร์เป็น 'ทุกคนที่มีลิงก์' (Anyone with the link) แล้ว\")"
   ]
  },
  {
   "cell_type": "code",
   "execution_count": null,
   "id": "9ccaa532-bf12-4c5d-aafe-9397c5c190ab",
   "metadata": {
    "execution": {
     "iopub.execute_input": "2025-08-14T01:57:14.523007Z",
     "iopub.status.busy": "2025-08-14T01:57:14.523007Z",
     "iopub.status.idle": "2025-08-14T01:57:14.689333Z",
     "shell.execute_reply": "2025-08-14T01:57:14.689333Z"
    },
    "papermill": {
     "duration": 0.176442,
     "end_time": "2025-08-14T01:57:14.692440",
     "exception": false,
     "start_time": "2025-08-14T01:57:14.515998",
     "status": "completed"
    },
    "tags": []
   },
   "outputs": [],
   "source": [
    "df.to_excel(\"sales_insight.xlsx\", index=False)"
   ]
  }
 ],
 "metadata": {
  "kernelspec": {
   "display_name": "Python [conda env:base] *",
   "language": "python",
   "name": "conda-base-py"
  },
  "language_info": {
   "codemirror_mode": {
    "name": "ipython",
    "version": 3
   },
   "file_extension": ".py",
   "mimetype": "text/x-python",
   "name": "python",
   "nbconvert_exporter": "python",
   "pygments_lexer": "ipython3",
   "version": "3.12.7"
  },
  "papermill": {
   "default_parameters": {},
   "duration": 3.400519,
   "end_time": "2025-08-14T01:57:14.945858",
   "environment_variables": {},
   "exception": null,
   "input_path": "C:\\Users\\pao5_\\Pao_Project\\nd_1click\\01_sales\\Get_Sales_insight.ipynb",
   "output_path": "C:\\Users\\pao5_\\Pao_Project\\nd_1click\\01_sales\\Get_Sales_insight.ipynb",
   "parameters": {},
   "start_time": "2025-08-14T01:57:11.545339",
   "version": "2.6.0"
  }
 },
 "nbformat": 4,
 "nbformat_minor": 5
}
