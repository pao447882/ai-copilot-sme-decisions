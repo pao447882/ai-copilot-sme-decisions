{
 "cells": [
  {
   "cell_type": "markdown",
   "id": "cdc0a90e",
   "metadata": {
    "id": "79o8MZkmKnB1",
    "papermill": {
     "duration": 0.026099,
     "end_time": "2025-08-14T02:00:41.700889",
     "exception": false,
     "start_time": "2025-08-14T02:00:41.674790",
     "status": "completed"
    },
    "tags": []
   },
   "source": [
    "#Import"
   ]
  },
  {
   "cell_type": "code",
   "execution_count": null,
   "id": "dfd997aa",
   "metadata": {
    "execution": {
     "iopub.execute_input": "2025-08-14T02:00:41.957482Z",
     "iopub.status.busy": "2025-08-14T02:00:41.957482Z",
     "iopub.status.idle": "2025-08-14T02:00:43.673993Z",
     "shell.execute_reply": "2025-08-14T02:00:43.673993Z"
    },
    "papermill": {
     "duration": 1.758321,
     "end_time": "2025-08-14T02:00:43.676604",
     "exception": false,
     "start_time": "2025-08-14T02:00:41.918283",
     "status": "completed"
    },
    "tags": []
   },
   "outputs": [],
   "source": [
    "import pandas as pd\n",
    "import glob\n",
    "\n",
    "# ----- 1. ค้นหาไฟล์ทั้งหมดที่ตรงตามเงื่อนไข -----\n",
    "# รูปแบบชื่อไฟล์คือ 'gpos_' ตามด้วยอะไรก็ได้ และลงท้ายด้วย '.xls'\n",
    "# ใช้ glob ในการค้นหาไฟล์ในโฟลเดอร์ปัจจุบัน\n",
    "file_pattern = 'gpos_20*.xlsx'\n",
    "file_list = glob.glob(file_pattern)\n",
    "\n",
    "# ----- 2. เรียงลำดับชื่อไฟล์ตามวันที่ -----\n",
    "# เนื่องจากรูปแบบวันที่เป็น yyyy-mm-dd การเรียงลำดับชื่อไฟล์ตามตัวอักษร (lexicographical sort)\n",
    "# จะให้ผลลัพธ์เหมือนการเรียงตามวันที่โดยอัตโนมัติ (เช่น 'gpos_2023-12-31.xls' จะมาก่อน 'gpos_2024-01-01.xls')\n",
    "file_list.sort()\n",
    "\n",
    "# แสดงรายชื่อไฟล์ที่พบและเรียงลำดับแล้ว\n",
    "print(\"ไฟล์ที่จะถูกนำมารวม (เรียงตามลำดับ):\")\n",
    "for f in file_list:\n",
    "    print(f\"- {f}\")\n",
    "\n",
    "# ----- 3. อ่านและรวมไฟล์ -----\n",
    "# สร้าง list ว่างเพื่อเก็บ DataFrame ของแต่ละไฟล์\n",
    "all_dfs = []\n",
    "\n",
    "# วนลูปเพื่ออ่านแต่ละไฟล์ใน list ที่เรียงลำดับไว้แล้ว\n",
    "for file in file_list:\n",
    "    try:\n",
    "        df = pd.read_excel(file)\n",
    "        all_dfs.append(df)\n",
    "        print(f\"อ่านไฟล์ '{file}' สำเร็จ\")\n",
    "    except Exception as e:\n",
    "        print(f\"ไม่สามารถอ่านไฟล์ '{file}' ได้: {e}\")\n",
    "\n",
    "\n",
    "# ----- 4. รวม DataFrame ทั้งหมดให้เป็นอันเดียว -----\n",
    "# ตรวจสอบว่ามี DataFrame ให้อย่างน้อยหนึ่งอันก่อนทำการรวม\n",
    "if all_dfs:\n",
    "    # ใช้ pd.concat เพื่อรวม DataFrame ทั้งหมดใน list\n",
    "    # ignore_index=True เพื่อสร้าง index ใหม่สำหรับ DataFrame ที่รวมแล้ว\n",
    "    combined_df = pd.concat(all_dfs, ignore_index=True)\n",
    "\n",
    "    print(\"\\nรวมไฟล์ทั้งหมดสำเร็จ!\")\n",
    "\n",
    "    # ----- 5. แสดงผลลัพธ์เบื้องต้น -----\n",
    "    print(\"\\nข้อมูล 5 แถวแรกของ DataFrame ที่รวมแล้ว:\")\n",
    "    print(combined_df.head())\n",
    "\n",
    "    print(\"\\nข้อมูลสรุปของ DataFrame:\")\n",
    "    combined_df.info()\n",
    "\n",
    "    # หากต้องการเซฟ DataFrame ที่รวมแล้วเป็นไฟล์ใหม่\n",
    "    # combined_df.to_csv('combined_gpos_data.csv', index=False)\n",
    "    # print(\"\\nได้บันทึกไฟล์ combined_gpos_data.csv เรียบร้อยแล้ว\")\n",
    "else:\n",
    "    print(\"\\nไม่พบไฟล์ที่ตรงกับรูปแบบ 'gpos_*.xls' ในโฟลเดอร์นี้\")"
   ]
  },
  {
   "cell_type": "markdown",
   "id": "570e3334",
   "metadata": {
    "id": "EXN4F4vHyyfu",
    "papermill": {
     "duration": 0.049736,
     "end_time": "2025-08-14T02:00:43.762796",
     "exception": false,
     "start_time": "2025-08-14T02:00:43.713060",
     "status": "completed"
    },
    "tags": []
   },
   "source": [
    "#EDA/Proprocess"
   ]
  },
  {
   "cell_type": "code",
   "execution_count": null,
   "id": "8bdc15f2",
   "metadata": {
    "colab": {
     "base_uri": "https://localhost:8080/",
     "height": 423
    },
    "execution": {
     "iopub.execute_input": "2025-08-14T02:00:43.854792Z",
     "iopub.status.busy": "2025-08-14T02:00:43.854792Z",
     "iopub.status.idle": "2025-08-14T02:00:43.865671Z",
     "shell.execute_reply": "2025-08-14T02:00:43.865671Z"
    },
    "id": "VdQJmIc9y1G0",
    "outputId": "fb280692-66ee-4c70-b743-a1acff98f444",
    "papermill": {
     "duration": 0.061896,
     "end_time": "2025-08-14T02:00:43.868685",
     "exception": false,
     "start_time": "2025-08-14T02:00:43.806789",
     "status": "completed"
    },
    "tags": []
   },
   "outputs": [],
   "source": [
    "df"
   ]
  },
  {
   "cell_type": "code",
   "execution_count": null,
   "id": "1cc2f376",
   "metadata": {
    "colab": {
     "base_uri": "https://localhost:8080/",
     "height": 423
    },
    "execution": {
     "iopub.execute_input": "2025-08-14T02:00:43.924785Z",
     "iopub.status.busy": "2025-08-14T02:00:43.924785Z",
     "iopub.status.idle": "2025-08-14T02:00:43.933048Z",
     "shell.execute_reply": "2025-08-14T02:00:43.933048Z"
    },
    "id": "hsYlb4z6zGiz",
    "outputId": "0350bedf-01ab-466a-b178-9bf8cba0b322",
    "papermill": {
     "duration": 0.039353,
     "end_time": "2025-08-14T02:00:43.935143",
     "exception": false,
     "start_time": "2025-08-14T02:00:43.895790",
     "status": "completed"
    },
    "tags": []
   },
   "outputs": [],
   "source": [
    "returned_items_df = df[df['รายละเอียดรายการ'].str.contains('คืน', na=False)]\n",
    "display(returned_items_df)"
   ]
  },
  {
   "cell_type": "code",
   "execution_count": null,
   "id": "32cf6951",
   "metadata": {
    "colab": {
     "base_uri": "https://localhost:8080/",
     "height": 423
    },
    "execution": {
     "iopub.execute_input": "2025-08-14T02:00:43.988724Z",
     "iopub.status.busy": "2025-08-14T02:00:43.988724Z",
     "iopub.status.idle": "2025-08-14T02:00:43.997187Z",
     "shell.execute_reply": "2025-08-14T02:00:43.997187Z"
    },
    "id": "bf93dea4",
    "outputId": "20d4b69a-6166-448c-96be-b9913af1845f",
    "papermill": {
     "duration": 0.038543,
     "end_time": "2025-08-14T02:00:44.000200",
     "exception": false,
     "start_time": "2025-08-14T02:00:43.961657",
     "status": "completed"
    },
    "tags": []
   },
   "outputs": [],
   "source": [
    "df = df.drop(returned_items_df.index)\n",
    "display(df)"
   ]
  },
  {
   "cell_type": "code",
   "execution_count": null,
   "id": "533a6e49",
   "metadata": {
    "colab": {
     "base_uri": "https://localhost:8080/",
     "height": 423
    },
    "execution": {
     "iopub.execute_input": "2025-08-14T02:00:44.085899Z",
     "iopub.status.busy": "2025-08-14T02:00:44.084978Z",
     "iopub.status.idle": "2025-08-14T02:00:44.094888Z",
     "shell.execute_reply": "2025-08-14T02:00:44.093874Z"
    },
    "id": "fc3ed0cb",
    "outputId": "99df726d-47cf-40e4-e9d2-5cf5ccdc1f77",
    "papermill": {
     "duration": 0.064024,
     "end_time": "2025-08-14T02:00:44.098307",
     "exception": false,
     "start_time": "2025-08-14T02:00:44.034283",
     "status": "completed"
    },
    "tags": []
   },
   "outputs": [],
   "source": [
    "df = df[df['เลขที่ใบเสร็จ'] != '--']\n",
    "display(df)"
   ]
  },
  {
   "cell_type": "code",
   "execution_count": null,
   "id": "b15a6240",
   "metadata": {
    "colab": {
     "base_uri": "https://localhost:8080/",
     "height": 397
    },
    "execution": {
     "iopub.execute_input": "2025-08-14T02:00:44.154704Z",
     "iopub.status.busy": "2025-08-14T02:00:44.154704Z",
     "iopub.status.idle": "2025-08-14T02:00:44.160572Z",
     "shell.execute_reply": "2025-08-14T02:00:44.159560Z"
    },
    "id": "096a4ccc",
    "outputId": "c9dc97c1-8b75-4c6e-ab96-16ccacf2150b",
    "papermill": {
     "duration": 0.037185,
     "end_time": "2025-08-14T02:00:44.162877",
     "exception": false,
     "start_time": "2025-08-14T02:00:44.125692",
     "status": "completed"
    },
    "tags": []
   },
   "outputs": [],
   "source": [
    "display(df.isnull().sum())"
   ]
  },
  {
   "cell_type": "code",
   "execution_count": null,
   "id": "b1ef9b48",
   "metadata": {
    "colab": {
     "base_uri": "https://localhost:8080/"
    },
    "execution": {
     "iopub.execute_input": "2025-08-14T02:00:44.240129Z",
     "iopub.status.busy": "2025-08-14T02:00:44.240129Z",
     "iopub.status.idle": "2025-08-14T02:00:44.249311Z",
     "shell.execute_reply": "2025-08-14T02:00:44.249311Z"
    },
    "id": "weurwVCr0GoB",
    "outputId": "cb045cb6-38d0-4154-e091-8108f785c1d6",
    "papermill": {
     "duration": 0.061552,
     "end_time": "2025-08-14T02:00:44.252689",
     "exception": false,
     "start_time": "2025-08-14T02:00:44.191137",
     "status": "completed"
    },
    "tags": []
   },
   "outputs": [],
   "source": [
    "df.info()"
   ]
  },
  {
   "cell_type": "code",
   "execution_count": null,
   "id": "67e643eb",
   "metadata": {
    "colab": {
     "base_uri": "https://localhost:8080/"
    },
    "execution": {
     "iopub.execute_input": "2025-08-14T02:00:44.309371Z",
     "iopub.status.busy": "2025-08-14T02:00:44.309371Z",
     "iopub.status.idle": "2025-08-14T02:00:44.319272Z",
     "shell.execute_reply": "2025-08-14T02:00:44.318764Z"
    },
    "id": "P8-zVMSl0MnF",
    "outputId": "a9cc4100-dccd-43eb-e34c-dd516694e37c",
    "papermill": {
     "duration": 0.042568,
     "end_time": "2025-08-14T02:00:44.322861",
     "exception": false,
     "start_time": "2025-08-14T02:00:44.280293",
     "status": "completed"
    },
    "tags": []
   },
   "outputs": [],
   "source": [
    "df['วันที่'] = pd.to_datetime(df['วันที่'])\n",
    "df['เวลา'] = pd.to_datetime(df['เวลา'])\n",
    "df['เลขที่ใบเสร็จ'] = pd.to_numeric(df['เลขที่ใบเสร็จ'], errors='coerce').fillna(0).astype('int64')\n",
    "df['ยอดรวมทั้งหมด'] = pd.to_numeric(df['ยอดรวมทั้งหมด'], errors='coerce').fillna(0).astype('int64')"
   ]
  },
  {
   "cell_type": "code",
   "execution_count": null,
   "id": "6cc510fa",
   "metadata": {
    "colab": {
     "base_uri": "https://localhost:8080/"
    },
    "execution": {
     "iopub.execute_input": "2025-08-14T02:00:44.439515Z",
     "iopub.status.busy": "2025-08-14T02:00:44.439515Z",
     "iopub.status.idle": "2025-08-14T02:00:44.446044Z",
     "shell.execute_reply": "2025-08-14T02:00:44.446044Z"
    },
    "id": "rzpoUjB71tjr",
    "outputId": "42662981-ad2f-48b7-b0fd-aa8a8c28af31",
    "papermill": {
     "duration": 0.076561,
     "end_time": "2025-08-14T02:00:44.454070",
     "exception": false,
     "start_time": "2025-08-14T02:00:44.377509",
     "status": "completed"
    },
    "tags": []
   },
   "outputs": [],
   "source": [
    "df.info()"
   ]
  },
  {
   "cell_type": "markdown",
   "id": "bb467c81",
   "metadata": {
    "id": "TTmjTPKM46u4",
    "papermill": {
     "duration": 0.051072,
     "end_time": "2025-08-14T02:00:44.562827",
     "exception": false,
     "start_time": "2025-08-14T02:00:44.511755",
     "status": "completed"
    },
    "tags": []
   },
   "source": [
    "##แยกประเภท ก๋วยเตี๋ยว, ตามสั่ง, เครื่องเคียง, เครื่องดื่ม"
   ]
  },
  {
   "cell_type": "code",
   "execution_count": null,
   "id": "93aa0cf0",
   "metadata": {
    "colab": {
     "base_uri": "https://localhost:8080/",
     "height": 416
    },
    "execution": {
     "iopub.execute_input": "2025-08-14T02:00:44.674971Z",
     "iopub.status.busy": "2025-08-14T02:00:44.674971Z",
     "iopub.status.idle": "2025-08-14T02:00:44.684144Z",
     "shell.execute_reply": "2025-08-14T02:00:44.683127Z"
    },
    "id": "vCWWTsrA7yap",
    "outputId": "b66cc91b-2f66-4617-c8e7-83733b509c28",
    "papermill": {
     "duration": 0.070885,
     "end_time": "2025-08-14T02:00:44.689237",
     "exception": false,
     "start_time": "2025-08-14T02:00:44.618352",
     "status": "completed"
    },
    "tags": []
   },
   "outputs": [],
   "source": [
    "unique_items = df['รายละเอียดรายการ'].unique()\n",
    "display(unique_items)"
   ]
  },
  {
   "cell_type": "code",
   "execution_count": null,
   "id": "2724e013",
   "metadata": {
    "colab": {
     "base_uri": "https://localhost:8080/",
     "height": 206
    },
    "execution": {
     "iopub.execute_input": "2025-08-14T02:00:44.805918Z",
     "iopub.status.busy": "2025-08-14T02:00:44.805918Z",
     "iopub.status.idle": "2025-08-14T02:00:44.815590Z",
     "shell.execute_reply": "2025-08-14T02:00:44.815029Z"
    },
    "id": "RMy-ompU1p5x",
    "outputId": "924c76e1-e3d2-4e07-d98b-5304a70a0f2b",
    "papermill": {
     "duration": 0.073405,
     "end_time": "2025-08-14T02:00:44.822718",
     "exception": false,
     "start_time": "2025-08-14T02:00:44.749313",
     "status": "completed"
    },
    "tags": []
   },
   "outputs": [],
   "source": [
    "def categorize_item(item):\n",
    "    if 'ก๋วยเตี๋ยว' in item:\n",
    "        return 'ก๋วยเตี๋ยว'\n",
    "    elif item in ['ผัดคะน้า', 'กะเพราโบราณผัดพริกแห้ง', 'ข้าวผัด', 'กระเทียมพริกไทย', 'ผัดพริกแกง', 'ข้าวผัดน้ำพริกกุ้งแห้ง', 'ผัดพริกเกลือ', 'ผัดไข่เค็ม', 'ข้าวโปะไข่ดาว', 'ข้าวไข่เจียว', 'ข้าวไข่เจียวน้ำพริก', 'ข้าวไข่ข้น', 'ข้าวคะน้า', 'ข้าวกะเพราเต้าหู้']:\n",
    "        return 'ตามสั่ง'\n",
    "    elif item in ['เก๊กฮวยใส่แก้ว', 'น้ำเปล่า', 'เอสโคล่าเล็ก 330 มล', 'เอสโคล่าใหญ่ 465 มล', 'น้ำแข็ง', 'เป๊ปซี่ 340 มล', 'โออิชิ 400 มล', 'น้ำเปล่า พนง', 'เป็ปซี่ พนง', 'เอสใหญ่ พนง', 'เอสเล็ก พนง']:\n",
    "        return 'เครื่องดื่ม'\n",
    "    else:\n",
    "        return 'เครื่องเคียง'\n",
    "\n",
    "df['ประเภท'] = df['รายละเอียดรายการ'].apply(categorize_item)\n",
    "display(df.head())"
   ]
  },
  {
   "cell_type": "markdown",
   "id": "11d531f7",
   "metadata": {
    "id": "Xisyt9VH3DdU",
    "papermill": {
     "duration": 0.06002,
     "end_time": "2025-08-14T02:00:44.945487",
     "exception": false,
     "start_time": "2025-08-14T02:00:44.885467",
     "status": "completed"
    },
    "tags": []
   },
   "source": [
    "##เมนูไหนขายดีสุด"
   ]
  },
  {
   "cell_type": "code",
   "execution_count": null,
   "id": "262a6667",
   "metadata": {
    "colab": {
     "base_uri": "https://localhost:8080/",
     "height": 742
    },
    "execution": {
     "iopub.execute_input": "2025-08-14T02:00:45.065848Z",
     "iopub.status.busy": "2025-08-14T02:00:45.065848Z",
     "iopub.status.idle": "2025-08-14T02:00:45.070890Z",
     "shell.execute_reply": "2025-08-14T02:00:45.070890Z"
    },
    "id": "5Qa9PczjyzNv",
    "outputId": "760b0352-1dbd-4479-c489-15d4a5adaf6e",
    "papermill": {
     "duration": 0.073811,
     "end_time": "2025-08-14T02:00:45.078401",
     "exception": false,
     "start_time": "2025-08-14T02:00:45.004590",
     "status": "completed"
    },
    "tags": []
   },
   "outputs": [],
   "source": [
    "item_counts = df.groupby('รายละเอียดรายการ')['จำนวน'].sum().sort_values(ascending=False)\n",
    "display(item_counts.head(20))"
   ]
  },
  {
   "cell_type": "code",
   "execution_count": null,
   "id": "4adba1a6",
   "metadata": {
    "execution": {
     "iopub.execute_input": "2025-08-14T02:00:45.193925Z",
     "iopub.status.busy": "2025-08-14T02:00:45.193925Z",
     "iopub.status.idle": "2025-08-14T02:00:45.796621Z",
     "shell.execute_reply": "2025-08-14T02:00:45.796621Z"
    },
    "papermill": {
     "duration": 0.663502,
     "end_time": "2025-08-14T02:00:45.798903",
     "exception": false,
     "start_time": "2025-08-14T02:00:45.135401",
     "status": "completed"
    },
    "tags": []
   },
   "outputs": [],
   "source": [
    "import requests\n",
    "import matplotlib.pyplot as plt\n",
    "import matplotlib.font_manager as fm\n",
    "import os\n",
    "\n",
    "# --- 1. ดาวน์โหลดฟอนต์ด้วย Python ---\n",
    "font_url = 'https://github.com/google/fonts/raw/main/ofl/sarabun/Sarabun-Regular.ttf'\n",
    "font_filename = 'Sarabun-Regular.ttf'\n",
    "\n",
    "# ตรวจสอบว่ามีไฟล์ฟอนต์อยู่แล้วหรือไม่ ถ้ายังไม่มีให้ดาวน์โหลด\n",
    "if not os.path.exists(font_filename):\n",
    "    print(f\"กำลังดาวน์โหลดฟอนต์ {font_filename}...\")\n",
    "    try:\n",
    "        response = requests.get(font_url)\n",
    "        response.raise_for_status()  # เช็คว่าดาวน์โหลดสำเร็จหรือไม่\n",
    "        with open(font_filename, 'wb') as f:\n",
    "            f.write(response.content)\n",
    "        print(\"ดาวน์โหลดฟอนต์สำเร็จ\")\n",
    "    except requests.exceptions.RequestException as e:\n",
    "        print(f\"เกิดข้อผิดพลาดในการดาวน์โหลด: {e}\")\n",
    "else:\n",
    "    print(f\"พบไฟล์ '{font_filename}' อยู่แล้ว ไม่ต้องดาวน์โหลดใหม่\")\n",
    "\n",
    "# --- 2. เพิ่มฟอนต์และตั้งค่า Matplotlib ---\n",
    "if os.path.exists(font_filename):\n",
    "    # เพิ่มฟอนต์ที่ดาวน์โหลดเข้ามาในระบบของ Matplotlib\n",
    "    fm.fontManager.addfont(font_filename)\n",
    "\n",
    "    # ตั้งค่าให้ Matplotlib ใช้ฟอนต์ Sarabun เป็นหลัก\n",
    "    plt.rc('font', family='Sarabun')\n",
    "    \n",
    "    print(\"\\n✅ ตั้งค่าฟอนต์สำเร็จ!\")\n",
    "    print(\"⚠️ โปรดรีสตาร์ท Kernel เพื่อให้การเปลี่ยนแปลงมีผล\")\n",
    "else:\n",
    "    print(f\"❌ ไม่พบไฟล์ฟอนต์ '{font_filename}' การตั้งค่าล้มเหลว\")"
   ]
  },
  {
   "cell_type": "code",
   "execution_count": null,
   "id": "c2544025",
   "metadata": {
    "colab": {
     "base_uri": "https://localhost:8080/",
     "height": 807
    },
    "execution": {
     "iopub.execute_input": "2025-08-14T02:00:45.899947Z",
     "iopub.status.busy": "2025-08-14T02:00:45.899000Z",
     "iopub.status.idle": "2025-08-14T02:00:46.080181Z",
     "shell.execute_reply": "2025-08-14T02:00:46.080181Z"
    },
    "id": "MaVEHvMM-9sK",
    "outputId": "af4034b6-ba2a-4054-800a-a8768d550852",
    "papermill": {
     "duration": 0.242879,
     "end_time": "2025-08-14T02:00:46.088291",
     "exception": false,
     "start_time": "2025-08-14T02:00:45.845412",
     "status": "completed"
    },
    "tags": []
   },
   "outputs": [],
   "source": [
    "import matplotlib.pyplot as plt\n",
    "import matplotlib.font_manager as fm\n",
    "\n",
    "# Create a bar chart for the top 20 items\n",
    "plt.figure(figsize=(12, 8))\n",
    "item_counts.head(20).plot(kind='bar')\n",
    "plt.title('Top 20 Bestselling Items by Quantity')\n",
    "plt.xlabel('Item Name')\n",
    "plt.ylabel('Quantity Sold')\n",
    "plt.xticks(rotation=90)\n",
    "plt.tight_layout()\n",
    "plt.show()"
   ]
  },
  {
   "cell_type": "code",
   "execution_count": null,
   "id": "189c2839",
   "metadata": {
    "colab": {
     "base_uri": "https://localhost:8080/",
     "height": 742
    },
    "execution": {
     "iopub.execute_input": "2025-08-14T02:00:46.219508Z",
     "iopub.status.busy": "2025-08-14T02:00:46.217511Z",
     "iopub.status.idle": "2025-08-14T02:00:46.243591Z",
     "shell.execute_reply": "2025-08-14T02:00:46.241576Z"
    },
    "id": "ltwWvs4y5JyK",
    "outputId": "96b030fa-cb90-4700-a7a6-e2532f0c40d9",
    "papermill": {
     "duration": 0.096289,
     "end_time": "2025-08-14T02:00:46.248590",
     "exception": false,
     "start_time": "2025-08-14T02:00:46.152301",
     "status": "completed"
    },
    "tags": []
   },
   "outputs": [],
   "source": [
    "item_price_sum = df.groupby('รายละเอียดรายการ')['ราคา'].sum().sort_values(ascending=False)\n",
    "display(item_price_sum.head(20))"
   ]
  },
  {
   "cell_type": "code",
   "execution_count": null,
   "id": "0037b62a",
   "metadata": {
    "colab": {
     "base_uri": "https://localhost:8080/",
     "height": 807
    },
    "execution": {
     "iopub.execute_input": "2025-08-14T02:00:46.364872Z",
     "iopub.status.busy": "2025-08-14T02:00:46.363871Z",
     "iopub.status.idle": "2025-08-14T02:00:47.275921Z",
     "shell.execute_reply": "2025-08-14T02:00:47.272912Z"
    },
    "id": "YzjnJL1i_ZAV",
    "outputId": "dcfd2667-7246-4bcb-c6ae-9b8662e66958",
    "papermill": {
     "duration": 0.975436,
     "end_time": "2025-08-14T02:00:47.281289",
     "exception": false,
     "start_time": "2025-08-14T02:00:46.305853",
     "status": "completed"
    },
    "tags": []
   },
   "outputs": [],
   "source": [
    "import matplotlib.pyplot as plt\n",
    "import matplotlib.font_manager as fm\n",
    "\n",
    "# Create a bar chart for the top 20 items by revenue\n",
    "plt.figure(figsize=(12, 8))\n",
    "item_price_sum.head(20).plot(kind='bar')\n",
    "plt.title('Top 20 Bestselling Items by Revenue')\n",
    "plt.xlabel('Item Name')\n",
    "plt.ylabel('Total Revenue')\n",
    "plt.xticks(rotation=90)\n",
    "plt.tight_layout()\n",
    "plt.show()"
   ]
  },
  {
   "cell_type": "code",
   "execution_count": null,
   "id": "b4c6cdcf",
   "metadata": {
    "colab": {
     "base_uri": "https://localhost:8080/",
     "height": 774
    },
    "execution": {
     "iopub.execute_input": "2025-08-14T02:00:47.403183Z",
     "iopub.status.busy": "2025-08-14T02:00:47.402186Z",
     "iopub.status.idle": "2025-08-14T02:00:47.429679Z",
     "shell.execute_reply": "2025-08-14T02:00:47.427581Z"
    },
    "id": "z9JhDBue43C-",
    "outputId": "16900b35-fda6-49e7-8717-41febcf2affa",
    "papermill": {
     "duration": 0.094292,
     "end_time": "2025-08-14T02:00:47.433669",
     "exception": false,
     "start_time": "2025-08-14T02:00:47.339377",
     "status": "completed"
    },
    "tags": []
   },
   "outputs": [],
   "source": [
    "noodle_items = df[df['ประเภท'] == 'ก๋วยเตี๋ยว']\n",
    "noodle_item_counts = noodle_items.groupby('รายละเอียดรายการ')['จำนวน'].sum().sort_values(ascending=False)\n",
    "display(noodle_item_counts)"
   ]
  },
  {
   "cell_type": "code",
   "execution_count": null,
   "id": "b6dd310b",
   "metadata": {
    "colab": {
     "base_uri": "https://localhost:8080/",
     "height": 807
    },
    "execution": {
     "iopub.execute_input": "2025-08-14T02:00:47.561514Z",
     "iopub.status.busy": "2025-08-14T02:00:47.560510Z",
     "iopub.status.idle": "2025-08-14T02:00:48.340570Z",
     "shell.execute_reply": "2025-08-14T02:00:48.338037Z"
    },
    "id": "a_VqlUut_wFD",
    "outputId": "f57f518e-cc38-4939-afb4-47c58949e9c4",
    "papermill": {
     "duration": 0.849084,
     "end_time": "2025-08-14T02:00:48.345569",
     "exception": false,
     "start_time": "2025-08-14T02:00:47.496485",
     "status": "completed"
    },
    "tags": []
   },
   "outputs": [],
   "source": [
    "import matplotlib.pyplot as plt\n",
    "import matplotlib.font_manager as fm\n",
    "\n",
    "# Create a bar chart for noodle item counts\n",
    "plt.figure(figsize=(12, 8))\n",
    "noodle_item_counts.plot(kind='bar')\n",
    "plt.title('Noodle Item Counts')\n",
    "plt.xlabel('Noodle Type')\n",
    "plt.ylabel('Quantity Sold')\n",
    "plt.xticks(rotation=90)\n",
    "plt.tight_layout()\n",
    "plt.show()"
   ]
  },
  {
   "cell_type": "code",
   "execution_count": null,
   "id": "e5c58be5",
   "metadata": {
    "colab": {
     "base_uri": "https://localhost:8080/",
     "height": 774
    },
    "execution": {
     "iopub.execute_input": "2025-08-14T02:00:48.488057Z",
     "iopub.status.busy": "2025-08-14T02:00:48.487059Z",
     "iopub.status.idle": "2025-08-14T02:00:48.514528Z",
     "shell.execute_reply": "2025-08-14T02:00:48.512567Z"
    },
    "id": "joawXu4n5-0q",
    "outputId": "f99f18bb-3053-4ae5-fe89-af66b81aed39",
    "papermill": {
     "duration": 0.099162,
     "end_time": "2025-08-14T02:00:48.518516",
     "exception": false,
     "start_time": "2025-08-14T02:00:48.419354",
     "status": "completed"
    },
    "tags": []
   },
   "outputs": [],
   "source": [
    "noodle_items = df[df['ประเภท'] == 'ก๋วยเตี๋ยว']\n",
    "noodle_item_counts = noodle_items.groupby('รายละเอียดรายการ')['ราคา'].sum().sort_values(ascending=False)\n",
    "display(noodle_item_counts)"
   ]
  },
  {
   "cell_type": "code",
   "execution_count": null,
   "id": "0e0d445b",
   "metadata": {
    "colab": {
     "base_uri": "https://localhost:8080/",
     "height": 807
    },
    "execution": {
     "iopub.execute_input": "2025-08-14T02:00:48.600233Z",
     "iopub.status.busy": "2025-08-14T02:00:48.600233Z",
     "iopub.status.idle": "2025-08-14T02:00:49.389989Z",
     "shell.execute_reply": "2025-08-14T02:00:49.386885Z"
    },
    "id": "pzd-1cU2_6SL",
    "outputId": "4f59184c-2472-4b4a-dd74-5d407b02267b",
    "papermill": {
     "duration": 0.839566,
     "end_time": "2025-08-14T02:00:49.395998",
     "exception": false,
     "start_time": "2025-08-14T02:00:48.556432",
     "status": "completed"
    },
    "tags": []
   },
   "outputs": [],
   "source": [
    "import matplotlib.pyplot as plt\n",
    "import matplotlib.font_manager as fm\n",
    "\n",
    "# Create a bar chart for noodle item revenue\n",
    "plt.figure(figsize=(12, 8))\n",
    "noodle_item_counts.plot(kind='bar')\n",
    "plt.title('Noodle Item Revenue')\n",
    "plt.xlabel('Noodle Type')\n",
    "plt.ylabel('Total Revenue')\n",
    "plt.xticks(rotation=90)\n",
    "plt.tight_layout()\n",
    "plt.show()"
   ]
  },
  {
   "cell_type": "code",
   "execution_count": null,
   "id": "1090011e",
   "metadata": {
    "colab": {
     "base_uri": "https://localhost:8080/",
     "height": 1000
    },
    "execution": {
     "iopub.execute_input": "2025-08-14T02:00:49.552773Z",
     "iopub.status.busy": "2025-08-14T02:00:49.550767Z",
     "iopub.status.idle": "2025-08-14T02:00:49.593837Z",
     "shell.execute_reply": "2025-08-14T02:00:49.592314Z"
    },
    "id": "cMEMECLn6Tql",
    "outputId": "873d9b29-9caa-4edb-c216-adfc1421ad91",
    "papermill": {
     "duration": 0.121068,
     "end_time": "2025-08-14T02:00:49.597845",
     "exception": false,
     "start_time": "2025-08-14T02:00:49.476777",
     "status": "completed"
    },
    "tags": []
   },
   "outputs": [],
   "source": [
    "noodle_items = df[df['ประเภท'] == 'ตามสั่ง']\n",
    "noodle_item_counts = noodle_items.groupby('รายละเอียดรายการ')['จำนวน'].sum().sort_values(ascending=False)\n",
    "display(noodle_item_counts)\n",
    "\n",
    "noodle_items = df[df['ประเภท'] == 'ตามสั่ง']\n",
    "noodle_item_counts = noodle_items.groupby('รายละเอียดรายการ')['ราคา'].sum().sort_values(ascending=False)\n",
    "display(noodle_item_counts)"
   ]
  },
  {
   "cell_type": "code",
   "execution_count": null,
   "id": "535733d4",
   "metadata": {
    "colab": {
     "base_uri": "https://localhost:8080/",
     "height": 1000
    },
    "execution": {
     "iopub.execute_input": "2025-08-14T02:00:49.736719Z",
     "iopub.status.busy": "2025-08-14T02:00:49.736719Z",
     "iopub.status.idle": "2025-08-14T02:00:51.093397Z",
     "shell.execute_reply": "2025-08-14T02:00:51.090382Z"
    },
    "id": "FDx1J74cAC7N",
    "outputId": "1d90d157-e8d1-49af-f1f4-d978dea849ad",
    "papermill": {
     "duration": 1.431389,
     "end_time": "2025-08-14T02:00:51.098397",
     "exception": false,
     "start_time": "2025-08-14T02:00:49.667008",
     "status": "completed"
    },
    "tags": []
   },
   "outputs": [],
   "source": [
    "import matplotlib.pyplot as plt\n",
    "import matplotlib.font_manager as fm\n",
    "\n",
    "# Filter for 'ตามสั่ง' items\n",
    "tamsang_items = df[df['ประเภท'] == 'ตามสั่ง']\n",
    "\n",
    "# Group by item details and sum the quantity\n",
    "tamsang_item_counts = tamsang_items.groupby('รายละเอียดรายการ')['จำนวน'].sum().sort_values(ascending=False)\n",
    "\n",
    "# Create a bar chart for ตามสั่ง item counts\n",
    "plt.figure(figsize=(12, 8))\n",
    "tamsang_item_counts.plot(kind='bar')\n",
    "plt.title('ตามสั่ง Item Counts')\n",
    "plt.xlabel('ตามสั่ง Type')\n",
    "plt.ylabel('Quantity Sold')\n",
    "plt.xticks(rotation=90)\n",
    "plt.tight_layout()\n",
    "plt.show()\n",
    "\n",
    "# Group by item details and sum the revenue\n",
    "tamsang_item_revenue = tamsang_items.groupby('รายละเอียดรายการ')['ราคา'].sum().sort_values(ascending=False)\n",
    "\n",
    "# Create a bar chart for ตามสั่ง item revenue\n",
    "plt.figure(figsize=(12, 8))\n",
    "tamsang_item_revenue.plot(kind='bar')\n",
    "plt.title('ตามสั่ง Item Revenue')\n",
    "plt.xlabel('ตามสั่ง Type')\n",
    "plt.ylabel('Total Revenue')\n",
    "plt.xticks(rotation=90)\n",
    "plt.tight_layout()\n",
    "plt.show()"
   ]
  },
  {
   "cell_type": "code",
   "execution_count": null,
   "id": "49a9a260",
   "metadata": {
    "colab": {
     "base_uri": "https://localhost:8080/",
     "height": 903
    },
    "execution": {
     "iopub.execute_input": "2025-08-14T02:00:51.250934Z",
     "iopub.status.busy": "2025-08-14T02:00:51.249934Z",
     "iopub.status.idle": "2025-08-14T02:00:51.286494Z",
     "shell.execute_reply": "2025-08-14T02:00:51.284391Z"
    },
    "id": "8Ftb1EDy6v-S",
    "outputId": "d637abf3-a3a8-4dfb-f473-4a424d951507",
    "papermill": {
     "duration": 0.118089,
     "end_time": "2025-08-14T02:00:51.291494",
     "exception": false,
     "start_time": "2025-08-14T02:00:51.173405",
     "status": "completed"
    },
    "tags": []
   },
   "outputs": [],
   "source": [
    "noodle_items = df[df['ประเภท'] == 'เครื่องดื่ม']\n",
    "noodle_item_counts = noodle_items.groupby('รายละเอียดรายการ')['จำนวน'].sum().sort_values(ascending=False)\n",
    "display(noodle_item_counts)\n",
    "\n",
    "noodle_items = df[df['ประเภท'] == 'เครื่องดื่ม']\n",
    "noodle_item_counts = noodle_items.groupby('รายละเอียดรายการ')['ราคา'].sum().sort_values(ascending=False)\n",
    "display(noodle_item_counts)"
   ]
  },
  {
   "cell_type": "code",
   "execution_count": null,
   "id": "700ff440",
   "metadata": {
    "colab": {
     "base_uri": "https://localhost:8080/",
     "height": 1000
    },
    "execution": {
     "iopub.execute_input": "2025-08-14T02:00:51.444939Z",
     "iopub.status.busy": "2025-08-14T02:00:51.442939Z",
     "iopub.status.idle": "2025-08-14T02:00:52.694651Z",
     "shell.execute_reply": "2025-08-14T02:00:52.691553Z"
    },
    "id": "wYxeTr_OAYgX",
    "outputId": "f3106570-aa66-49e9-d51d-1dfb579357ea",
    "papermill": {
     "duration": 1.338234,
     "end_time": "2025-08-14T02:00:52.703647",
     "exception": false,
     "start_time": "2025-08-14T02:00:51.365413",
     "status": "completed"
    },
    "tags": []
   },
   "outputs": [],
   "source": [
    "import matplotlib.pyplot as plt\n",
    "import matplotlib.font_manager as fm\n",
    "\n",
    "# Filter for 'เครื่องดื่ม' items\n",
    "drink_items = df[df['ประเภท'] == 'เครื่องดื่ม']\n",
    "\n",
    "# Group by item details and sum the quantity\n",
    "drink_item_counts = drink_items.groupby('รายละเอียดรายการ')['จำนวน'].sum().sort_values(ascending=False)\n",
    "\n",
    "# Create a bar chart for เครื่องดื่ม item counts\n",
    "plt.figure(figsize=(12, 8))\n",
    "drink_item_counts.plot(kind='bar')\n",
    "plt.title('เครื่องดื่ม Item Counts')\n",
    "plt.xlabel('เครื่องดื่ม Type')\n",
    "plt.ylabel('Quantity Sold')\n",
    "plt.xticks(rotation=90)\n",
    "plt.tight_layout()\n",
    "plt.show()\n",
    "\n",
    "# Group by item details and sum the revenue\n",
    "drink_item_revenue = drink_items.groupby('รายละเอียดรายการ')['ราคา'].sum().sort_values(ascending=False)\n",
    "\n",
    "# Create a bar chart for เครื่องดื่ม item revenue\n",
    "plt.figure(figsize=(12, 8))\n",
    "drink_item_revenue.plot(kind='bar')\n",
    "plt.title('เครื่องดื่ม Item Revenue')\n",
    "plt.xlabel('เครื่องดื่ม Type')\n",
    "plt.ylabel('Total Revenue')\n",
    "plt.xticks(rotation=90)\n",
    "plt.tight_layout()\n",
    "plt.show()"
   ]
  },
  {
   "cell_type": "code",
   "execution_count": null,
   "id": "6c772901",
   "metadata": {
    "colab": {
     "base_uri": "https://localhost:8080/",
     "height": 1000
    },
    "execution": {
     "iopub.execute_input": "2025-08-14T02:00:52.883227Z",
     "iopub.status.busy": "2025-08-14T02:00:52.882230Z",
     "iopub.status.idle": "2025-08-14T02:00:52.930850Z",
     "shell.execute_reply": "2025-08-14T02:00:52.927751Z"
    },
    "id": "QPfxiQW265O2",
    "outputId": "91bf1900-7be7-41e9-f2d1-2659f3024126",
    "papermill": {
     "duration": 0.139421,
     "end_time": "2025-08-14T02:00:52.934848",
     "exception": false,
     "start_time": "2025-08-14T02:00:52.795427",
     "status": "completed"
    },
    "tags": []
   },
   "outputs": [],
   "source": [
    "noodle_items = df[df['ประเภท'] == 'เครื่องเคียง']\n",
    "noodle_item_counts = noodle_items.groupby('รายละเอียดรายการ')['จำนวน'].sum().sort_values(ascending=False)\n",
    "display(noodle_item_counts)\n",
    "\n",
    "noodle_items = df[df['ประเภท'] == 'เครื่องเคียง']\n",
    "noodle_item_counts = noodle_items.groupby('รายละเอียดรายการ')['ราคา'].sum().sort_values(ascending=False)\n",
    "display(noodle_item_counts)"
   ]
  },
  {
   "cell_type": "code",
   "execution_count": null,
   "id": "319cc1d7",
   "metadata": {
    "colab": {
     "base_uri": "https://localhost:8080/",
     "height": 1000
    },
    "execution": {
     "iopub.execute_input": "2025-08-14T02:00:53.096361Z",
     "iopub.status.busy": "2025-08-14T02:00:53.092439Z",
     "iopub.status.idle": "2025-08-14T02:00:54.375642Z",
     "shell.execute_reply": "2025-08-14T02:00:54.372967Z"
    },
    "id": "wMUqc-iSAhYM",
    "outputId": "62248454-8524-430c-bede-23445fd5f537",
    "papermill": {
     "duration": 1.365991,
     "end_time": "2025-08-14T02:00:54.381642",
     "exception": false,
     "start_time": "2025-08-14T02:00:53.015651",
     "status": "completed"
    },
    "tags": []
   },
   "outputs": [],
   "source": [
    "import matplotlib.pyplot as plt\n",
    "import matplotlib.font_manager as fm\n",
    "\n",
    "# Filter for 'เครื่องเคียง' items\n",
    "side_items = df[df['ประเภท'] == 'เครื่องเคียง']\n",
    "\n",
    "# Group by item details and sum the quantity\n",
    "side_item_counts = side_items.groupby('รายละเอียดรายการ')['จำนวน'].sum().sort_values(ascending=False)\n",
    "\n",
    "# Create a bar chart for เครื่องเคียง item counts\n",
    "plt.figure(figsize=(12, 8))\n",
    "side_item_counts.plot(kind='bar')\n",
    "plt.title('เครื่องเคียง Item Counts')\n",
    "plt.xlabel('เครื่องเคียง Type')\n",
    "plt.ylabel('Quantity Sold')\n",
    "plt.xticks(rotation=90)\n",
    "plt.tight_layout()\n",
    "plt.show()\n",
    "\n",
    "# Group by item details and sum the revenue\n",
    "side_item_revenue = side_items.groupby('รายละเอียดรายการ')['ราคา'].sum().sort_values(ascending=False)\n",
    "\n",
    "# Create a bar chart for เครื่องเคียง item revenue\n",
    "plt.figure(figsize=(12, 8))\n",
    "side_item_revenue.plot(kind='bar')\n",
    "plt.title('เครื่องเคียง Item Revenue')\n",
    "plt.xlabel('เครื่องเคียง Type')\n",
    "plt.ylabel('Total Revenue')\n",
    "plt.xticks(rotation=90)\n",
    "plt.tight_layout()\n",
    "plt.show()"
   ]
  },
  {
   "cell_type": "markdown",
   "id": "c6e387db",
   "metadata": {
    "id": "jBThD4FR3GqR",
    "papermill": {
     "duration": 0.078834,
     "end_time": "2025-08-14T02:00:54.542168",
     "exception": false,
     "start_time": "2025-08-14T02:00:54.463334",
     "status": "completed"
    },
    "tags": []
   },
   "source": [
    "##เวลาไหนยอดขายเท่าไร"
   ]
  },
  {
   "cell_type": "code",
   "execution_count": null,
   "id": "ad2b57c5",
   "metadata": {
    "colab": {
     "base_uri": "https://localhost:8080/",
     "height": 561
    },
    "execution": {
     "iopub.execute_input": "2025-08-14T02:00:54.724731Z",
     "iopub.status.busy": "2025-08-14T02:00:54.723744Z",
     "iopub.status.idle": "2025-08-14T02:00:55.412105Z",
     "shell.execute_reply": "2025-08-14T02:00:55.409012Z"
    },
    "id": "zYC3Qiy17ETP",
    "outputId": "54a49117-25c9-4205-fbc2-657e01b28202",
    "papermill": {
     "duration": 0.792165,
     "end_time": "2025-08-14T02:00:55.416096",
     "exception": false,
     "start_time": "2025-08-14T02:00:54.623931",
     "status": "completed"
    },
    "tags": []
   },
   "outputs": [],
   "source": [
    "import matplotlib.pyplot as plt\n",
    "\n",
    "# Extract the hour from the 'เวลา' column\n",
    "df['ชั่วโมง'] = df['เวลา'].dt.hour\n",
    "\n",
    "# Group by hour and sum the total revenue\n",
    "hourly_revenue = df.groupby('ชั่วโมง')['ราคา'].sum()\n",
    "\n",
    "# Create a histogram\n",
    "plt.figure(figsize=(10, 6))\n",
    "plt.bar(hourly_revenue.index, hourly_revenue.values, width=0.8, align='center')\n",
    "plt.xticks(hourly_revenue.index)\n",
    "plt.xlabel('Time')\n",
    "plt.ylabel('Sales')\n",
    "plt.title('Sales sum in each time')\n",
    "plt.grid(axis='y', linestyle='--', alpha=0.7)\n",
    "plt.show()"
   ]
  },
  {
   "cell_type": "code",
   "execution_count": null,
   "id": "5ca823f0",
   "metadata": {
    "colab": {
     "base_uri": "https://localhost:8080/",
     "height": 561
    },
    "execution": {
     "iopub.execute_input": "2025-08-14T02:00:55.605672Z",
     "iopub.status.busy": "2025-08-14T02:00:55.604691Z",
     "iopub.status.idle": "2025-08-14T02:00:56.185747Z",
     "shell.execute_reply": "2025-08-14T02:00:56.183640Z"
    },
    "id": "P6a5l8VC9Owj",
    "outputId": "725bb735-91fa-41c7-cefe-d1d4502b7e40",
    "papermill": {
     "duration": 0.677861,
     "end_time": "2025-08-14T02:00:56.188749",
     "exception": false,
     "start_time": "2025-08-14T02:00:55.510888",
     "status": "completed"
    },
    "tags": []
   },
   "outputs": [],
   "source": [
    "import matplotlib.pyplot as plt\n",
    "\n",
    "# Extract the hour from the 'เวลา' column (already done in a previous cell)\n",
    "# df['ชั่วโมง'] = df['เวลา'].dt.hour\n",
    "\n",
    "# Group by hour and เลขที่ใบเสร็จ and sum the total revenue for each order\n",
    "hourly_order_revenue = df.groupby(['ชั่วโมง', 'เลขที่ใบเสร็จ'])['ยอดรวมทั้งหมด'].sum().reset_index()\n",
    "\n",
    "# Group by hour and calculate the average of the total revenue per order\n",
    "hourly_average_order_revenue = hourly_order_revenue.groupby('ชั่วโมง')['ยอดรวมทั้งหมด'].mean()\n",
    "\n",
    "# Create a histogram\n",
    "plt.figure(figsize=(10, 6))\n",
    "plt.bar(hourly_average_order_revenue.index, hourly_average_order_revenue.values, width=0.8, align='center')\n",
    "plt.xticks(hourly_average_order_revenue.index)\n",
    "plt.xlabel('Time')\n",
    "plt.ylabel('Sales per order')\n",
    "plt.title('AVG Sales per order')\n",
    "plt.grid(axis='y', linestyle='--', alpha=0.7)\n",
    "plt.show()"
   ]
  },
  {
   "cell_type": "markdown",
   "id": "def161d8",
   "metadata": {
    "id": "Rhht9xs93Rtc",
    "papermill": {
     "duration": 0.087614,
     "end_time": "2025-08-14T02:00:56.374155",
     "exception": false,
     "start_time": "2025-08-14T02:00:56.286541",
     "status": "completed"
    },
    "tags": []
   },
   "source": [
    "##โต๊ะไหนคนทานบ่อยสุด"
   ]
  },
  {
   "cell_type": "code",
   "execution_count": null,
   "id": "7f3a5daf",
   "metadata": {
    "colab": {
     "base_uri": "https://localhost:8080/",
     "height": 742
    },
    "execution": {
     "iopub.execute_input": "2025-08-14T02:00:56.515488Z",
     "iopub.status.busy": "2025-08-14T02:00:56.514482Z",
     "iopub.status.idle": "2025-08-14T02:00:56.535961Z",
     "shell.execute_reply": "2025-08-14T02:00:56.533859Z"
    },
    "id": "ec4d665c",
    "outputId": "b1c62f6d-b3eb-45f8-f765-92371efeb842",
    "papermill": {
     "duration": 0.086269,
     "end_time": "2025-08-14T02:00:56.540961",
     "exception": false,
     "start_time": "2025-08-14T02:00:56.454692",
     "status": "completed"
    },
    "tags": []
   },
   "outputs": [],
   "source": [
    "table_item_counts = df.groupby('หมายเลขโต๊ะ')['จำนวน'].sum().sort_values(ascending=False)\n",
    "display(table_item_counts)"
   ]
  },
  {
   "cell_type": "code",
   "execution_count": null,
   "id": "ef5e786e",
   "metadata": {
    "colab": {
     "base_uri": "https://localhost:8080/",
     "height": 807
    },
    "execution": {
     "iopub.execute_input": "2025-08-14T02:00:56.716539Z",
     "iopub.status.busy": "2025-08-14T02:00:56.715546Z",
     "iopub.status.idle": "2025-08-14T02:00:57.427534Z",
     "shell.execute_reply": "2025-08-14T02:00:57.425433Z"
    },
    "id": "n67uF86SBBLB",
    "outputId": "4ab93026-1e83-4354-d8ca-4f5be4d74e6f",
    "papermill": {
     "duration": 0.80378,
     "end_time": "2025-08-14T02:00:57.432530",
     "exception": false,
     "start_time": "2025-08-14T02:00:56.628750",
     "status": "completed"
    },
    "tags": []
   },
   "outputs": [],
   "source": [
    "import matplotlib.pyplot as plt\n",
    "import matplotlib.font_manager as fm\n",
    "\n",
    "# Create a bar chart for table item counts\n",
    "plt.figure(figsize=(12, 8))\n",
    "table_item_counts.plot(kind='bar')\n",
    "plt.title('Item Counts by Table Number')\n",
    "plt.xlabel('Table Number')\n",
    "plt.ylabel('Quantity Sold')\n",
    "plt.xticks(rotation=90)\n",
    "plt.tight_layout()\n",
    "plt.show()"
   ]
  },
  {
   "cell_type": "code",
   "execution_count": null,
   "id": "b0f6a81b",
   "metadata": {
    "colab": {
     "base_uri": "https://localhost:8080/",
     "height": 178
    },
    "execution": {
     "iopub.execute_input": "2025-08-14T02:00:57.623074Z",
     "iopub.status.busy": "2025-08-14T02:00:57.622078Z",
     "iopub.status.idle": "2025-08-14T02:00:57.646415Z",
     "shell.execute_reply": "2025-08-14T02:00:57.644319Z"
    },
    "id": "8XKo4TMhNeVp",
    "outputId": "25021922-e8d6-4fa6-e639-1a34bb1d3fde",
    "papermill": {
     "duration": 0.122123,
     "end_time": "2025-08-14T02:00:57.651417",
     "exception": false,
     "start_time": "2025-08-14T02:00:57.529294",
     "status": "completed"
    },
    "tags": []
   },
   "outputs": [],
   "source": [
    "def categorize_table_type(table):\n",
    "    if table.startswith('ต'):\n",
    "        return 'ทานที่ร้าน'\n",
    "    elif table.startswith('ถ'):\n",
    "        return 'กลับบ้าน'\n",
    "    else:\n",
    "        return 'อื่นๆ'\n",
    "\n",
    "df['ประเภทโต๊ะ'] = df['หมายเลขโต๊ะ'].apply(categorize_table_type)\n",
    "\n",
    "table_type_counts = df.groupby('ประเภทโต๊ะ')['จำนวน'].sum().sort_values(ascending=False)\n",
    "display(table_type_counts)"
   ]
  },
  {
   "cell_type": "code",
   "execution_count": null,
   "id": "f56b4b40",
   "metadata": {
    "colab": {
     "base_uri": "https://localhost:8080/",
     "height": 674
    },
    "execution": {
     "iopub.execute_input": "2025-08-14T02:00:57.825971Z",
     "iopub.status.busy": "2025-08-14T02:00:57.824970Z",
     "iopub.status.idle": "2025-08-14T02:00:58.081324Z",
     "shell.execute_reply": "2025-08-14T02:00:58.078130Z"
    },
    "id": "1at7KwpLBJ3K",
    "outputId": "d9a88a50-1916-4df5-c5a3-5b6c82124ef8",
    "papermill": {
     "duration": 0.348131,
     "end_time": "2025-08-14T02:00:58.086324",
     "exception": false,
     "start_time": "2025-08-14T02:00:57.738193",
     "status": "completed"
    },
    "tags": []
   },
   "outputs": [],
   "source": [
    "import matplotlib.pyplot as plt\n",
    "import matplotlib.font_manager as fm\n",
    "\n",
    "# Create a pie chart for table type counts\n",
    "plt.figure(figsize=(8, 8))\n",
    "plt.pie(table_type_counts, labels=table_type_counts.index, autopct='%1.1f%%', startangle=90)\n",
    "plt.title('Item Counts by Table Type')\n",
    "plt.axis('equal') # Equal aspect ratio ensures that pie is drawn as a circle.\n",
    "plt.show()"
   ]
  },
  {
   "cell_type": "markdown",
   "id": "b0b3a00a",
   "metadata": {
    "id": "qelSVh6U7XA9",
    "papermill": {
     "duration": 0.087122,
     "end_time": "2025-08-14T02:00:58.263062",
     "exception": false,
     "start_time": "2025-08-14T02:00:58.175940",
     "status": "completed"
    },
    "tags": []
   },
   "source": [
    "##โต๊ะไหนทำรายได้สูงสุด"
   ]
  },
  {
   "cell_type": "code",
   "execution_count": null,
   "id": "84e0e4f5",
   "metadata": {
    "colab": {
     "base_uri": "https://localhost:8080/",
     "height": 742
    },
    "execution": {
     "iopub.execute_input": "2025-08-14T02:00:58.442561Z",
     "iopub.status.busy": "2025-08-14T02:00:58.442561Z",
     "iopub.status.idle": "2025-08-14T02:00:58.467080Z",
     "shell.execute_reply": "2025-08-14T02:00:58.465261Z"
    },
    "id": "LHYtOoQRO8oY",
    "outputId": "5b09b06b-f251-4555-9df7-b2cb08d478e0",
    "papermill": {
     "duration": 0.128509,
     "end_time": "2025-08-14T02:00:58.473178",
     "exception": false,
     "start_time": "2025-08-14T02:00:58.344669",
     "status": "completed"
    },
    "tags": []
   },
   "outputs": [],
   "source": [
    "table_revenue = df.groupby('หมายเลขโต๊ะ')['ราคา'].sum().sort_values(ascending=False)\n",
    "display(table_revenue)"
   ]
  },
  {
   "cell_type": "code",
   "execution_count": null,
   "id": "f22f0696",
   "metadata": {
    "colab": {
     "base_uri": "https://localhost:8080/",
     "height": 807
    },
    "execution": {
     "iopub.execute_input": "2025-08-14T02:00:58.653123Z",
     "iopub.status.busy": "2025-08-14T02:00:58.653123Z",
     "iopub.status.idle": "2025-08-14T02:00:59.083359Z",
     "shell.execute_reply": "2025-08-14T02:00:59.080836Z"
    },
    "id": "cTqLXOpgBSP5",
    "outputId": "a9c132bc-07a2-4bb1-8c02-827edeb62074",
    "papermill": {
     "duration": 0.525028,
     "end_time": "2025-08-14T02:00:59.088358",
     "exception": false,
     "start_time": "2025-08-14T02:00:58.563330",
     "status": "completed"
    },
    "tags": []
   },
   "outputs": [],
   "source": [
    "import matplotlib.pyplot as plt\n",
    "import matplotlib.font_manager as fm\n",
    "\n",
    "# Create a bar chart for table revenue\n",
    "plt.figure(figsize=(12, 8))\n",
    "table_revenue.plot(kind='bar')\n",
    "plt.title('Revenue by Table Number')\n",
    "plt.xlabel('Table Number')\n",
    "plt.ylabel('Total Revenue')\n",
    "plt.xticks(rotation=90)\n",
    "plt.tight_layout()\n",
    "plt.show()"
   ]
  },
  {
   "cell_type": "code",
   "execution_count": null,
   "id": "c386b764",
   "metadata": {
    "colab": {
     "base_uri": "https://localhost:8080/",
     "height": 742
    },
    "execution": {
     "iopub.execute_input": "2025-08-14T02:00:59.276853Z",
     "iopub.status.busy": "2025-08-14T02:00:59.274853Z",
     "iopub.status.idle": "2025-08-14T02:00:59.305659Z",
     "shell.execute_reply": "2025-08-14T02:00:59.302645Z"
    },
    "id": "ELZIdatCPaxS",
    "outputId": "976b2f1d-5848-484e-a186-8e8f5bcc89d5",
    "papermill": {
     "duration": 0.130517,
     "end_time": "2025-08-14T02:00:59.310653",
     "exception": false,
     "start_time": "2025-08-14T02:00:59.180136",
     "status": "completed"
    },
    "tags": []
   },
   "outputs": [],
   "source": [
    "# Group by table and order to get the total revenue per order\n",
    "table_order_revenue = df.groupby(['หมายเลขโต๊ะ', 'เลขที่ใบเสร็จ'])['ยอดรวมทั้งหมด'].sum().reset_index()\n",
    "\n",
    "# Group by table and calculate the average of the order totals\n",
    "average_revenue_per_table_order = table_order_revenue.groupby('หมายเลขโต๊ะ')['ยอดรวมทั้งหมด'].mean().sort_values(ascending=False)\n",
    "\n",
    "display(average_revenue_per_table_order)"
   ]
  },
  {
   "cell_type": "code",
   "execution_count": null,
   "id": "30dd1955",
   "metadata": {
    "colab": {
     "base_uri": "https://localhost:8080/",
     "height": 807
    },
    "execution": {
     "iopub.execute_input": "2025-08-14T02:00:59.498533Z",
     "iopub.status.busy": "2025-08-14T02:00:59.497536Z",
     "iopub.status.idle": "2025-08-14T02:01:00.314678Z",
     "shell.execute_reply": "2025-08-14T02:01:00.312612Z"
    },
    "id": "gSuhlJAWBbc_",
    "outputId": "d33ed08b-fd12-4f1b-921c-058fb5933894",
    "papermill": {
     "duration": 0.918251,
     "end_time": "2025-08-14T02:01:00.319694",
     "exception": false,
     "start_time": "2025-08-14T02:00:59.401443",
     "status": "completed"
    },
    "tags": []
   },
   "outputs": [],
   "source": [
    "import matplotlib.pyplot as plt\n",
    "import matplotlib.font_manager as fm\n",
    "\n",
    "# Create a bar chart for average revenue per table order\n",
    "plt.figure(figsize=(12, 8))\n",
    "average_revenue_per_table_order.plot(kind='bar')\n",
    "plt.title('Average Revenue per Order by Table Number')\n",
    "plt.xlabel('Table Number')\n",
    "plt.ylabel('Average Revenue per Order')\n",
    "plt.xticks(rotation=90)\n",
    "plt.tight_layout()\n",
    "plt.show()"
   ]
  },
  {
   "cell_type": "markdown",
   "id": "a0e60fad",
   "metadata": {
    "id": "NsIJxv1N9C_D",
    "papermill": {
     "duration": 0.101392,
     "end_time": "2025-08-14T02:01:00.512617",
     "exception": false,
     "start_time": "2025-08-14T02:01:00.411225",
     "status": "completed"
    },
    "tags": []
   },
   "source": [
    "##ช่องทางจ่ายเงินไหนนิยมสุด แต่ละช่องทางเมนูไหนขายดีสุด"
   ]
  },
  {
   "cell_type": "code",
   "execution_count": null,
   "id": "0044bded",
   "metadata": {
    "colab": {
     "base_uri": "https://localhost:8080/",
     "height": 147
    },
    "execution": {
     "iopub.execute_input": "2025-08-14T02:01:00.697907Z",
     "iopub.status.busy": "2025-08-14T02:01:00.697907Z",
     "iopub.status.idle": "2025-08-14T02:01:00.760279Z",
     "shell.execute_reply": "2025-08-14T02:01:00.758429Z"
    },
    "id": "ppU1n3vlRWaQ",
    "outputId": "daf69afb-d799-4865-f9bf-c06e11fa1372",
    "papermill": {
     "duration": 0.15801,
     "end_time": "2025-08-14T02:01:00.763350",
     "exception": false,
     "start_time": "2025-08-14T02:01:00.605340",
     "status": "completed"
    },
    "tags": []
   },
   "outputs": [],
   "source": [
    "# Create a new dataframe to store the consolidated revenue\n",
    "consolidated_revenue = {'Cash': 0, 'QrPromptPay': 0}\n",
    "\n",
    "# Iterate through each row in the original dataframe\n",
    "for index, row in df.iterrows():\n",
    "    payment_methods = row['ประเภทการชำระเงิน'].split(',')\n",
    "    price = row['ราคา']\n",
    "    num_methods = len(payment_methods)\n",
    "\n",
    "    # Distribute the revenue among the payment methods\n",
    "    for method in payment_methods:\n",
    "        method = method.strip() # Remove leading/trailing whitespace\n",
    "        if method in consolidated_revenue:\n",
    "            consolidated_revenue[method] += price / num_methods\n",
    "        # Optionally, handle other payment methods if needed\n",
    "        # else:\n",
    "        #     print(f\"Unknown payment method: {method}\")\n",
    "\n",
    "# Convert the dictionary to a pandas Series for display\n",
    "consolidated_revenue_series = pd.Series(consolidated_revenue).sort_values(ascending=False)\n",
    "\n",
    "display(consolidated_revenue_series)"
   ]
  },
  {
   "cell_type": "code",
   "execution_count": null,
   "id": "a40940f8",
   "metadata": {
    "colab": {
     "base_uri": "https://localhost:8080/",
     "height": 674
    },
    "execution": {
     "iopub.execute_input": "2025-08-14T02:01:00.931710Z",
     "iopub.status.busy": "2025-08-14T02:01:00.930712Z",
     "iopub.status.idle": "2025-08-14T02:01:01.180094Z",
     "shell.execute_reply": "2025-08-14T02:01:01.178053Z"
    },
    "id": "DyN3tytABlXt",
    "outputId": "18801b4c-12db-4bf9-da2d-bc7d80b674de",
    "papermill": {
     "duration": 0.34912,
     "end_time": "2025-08-14T02:01:01.185092",
     "exception": false,
     "start_time": "2025-08-14T02:01:00.835972",
     "status": "completed"
    },
    "tags": []
   },
   "outputs": [],
   "source": [
    "import matplotlib.pyplot as plt\n",
    "import matplotlib.font_manager as fm\n",
    "\n",
    "# Create a pie chart for consolidated revenue by payment method\n",
    "plt.figure(figsize=(8, 8))\n",
    "plt.pie(consolidated_revenue_series, labels=consolidated_revenue_series.index, autopct='%1.1f%%', startangle=90)\n",
    "plt.title('Revenue by Payment Method')\n",
    "plt.axis('equal') # Equal aspect ratio ensures that pie is drawn as a circle.\n",
    "plt.show()"
   ]
  },
  {
   "cell_type": "code",
   "execution_count": null,
   "id": "03b19a3d",
   "metadata": {
    "colab": {
     "base_uri": "https://localhost:8080/",
     "height": 892
    },
    "execution": {
     "iopub.execute_input": "2025-08-14T02:01:01.371422Z",
     "iopub.status.busy": "2025-08-14T02:01:01.371422Z",
     "iopub.status.idle": "2025-08-14T02:01:01.412279Z",
     "shell.execute_reply": "2025-08-14T02:01:01.410264Z"
    },
    "id": "VHGhspYMTLBa",
    "outputId": "f60005bb-368c-45ae-e14d-dbe1f1f405ff",
    "papermill": {
     "duration": 0.142573,
     "end_time": "2025-08-14T02:01:01.417278",
     "exception": false,
     "start_time": "2025-08-14T02:01:01.274705",
     "status": "completed"
    },
    "tags": []
   },
   "outputs": [],
   "source": [
    "# Filter the DataFrame for Cash payments\n",
    "cash_df = df[df['ประเภทการชำระเงิน'] == 'Cash']\n",
    "\n",
    "# Group by item details and sum the quantity for Cash payments\n",
    "cash_item_counts = cash_df.groupby('รายละเอียดรายการ')['จำนวน'].sum().sort_values(ascending=False)\n",
    "\n",
    "print(\"รายการสินค้าที่ขายดีสำหรับช่องทาง Cash:\")\n",
    "display(cash_item_counts.head(10))\n",
    "\n",
    "# Filter the DataFrame for QrPromptPay payments\n",
    "qrpromptpay_df = df[df['ประเภทการชำระเงิน'] == 'QrPromptPay']\n",
    "\n",
    "# Group by item details and sum the quantity for QrPromptPay payments\n",
    "qrpromptpay_item_counts = qrpromptpay_df.groupby('รายละเอียดรายการ')['จำนวน'].sum().sort_values(ascending=False)\n",
    "\n",
    "print(\"\\nรายการสินค้าที่ขายดีสำหรับช่องทาง QrPromptPay:\")\n",
    "display(qrpromptpay_item_counts.head(10))"
   ]
  },
  {
   "cell_type": "code",
   "execution_count": null,
   "id": "0452e916",
   "metadata": {
    "colab": {
     "base_uri": "https://localhost:8080/",
     "height": 1000
    },
    "execution": {
     "iopub.execute_input": "2025-08-14T02:01:01.618783Z",
     "iopub.status.busy": "2025-08-14T02:01:01.616784Z",
     "iopub.status.idle": "2025-08-14T02:01:02.933724Z",
     "shell.execute_reply": "2025-08-14T02:01:02.930721Z"
    },
    "id": "pppqXYmmBuBl",
    "outputId": "dcef6b9f-4b20-499e-c783-caaa03f936ea",
    "papermill": {
     "duration": 1.419641,
     "end_time": "2025-08-14T02:01:02.937723",
     "exception": false,
     "start_time": "2025-08-14T02:01:01.518082",
     "status": "completed"
    },
    "tags": []
   },
   "outputs": [],
   "source": [
    "import matplotlib.pyplot as plt\n",
    "import matplotlib.font_manager as fm\n",
    "\n",
    "# Create a bar chart for the top 10 best-selling items for Cash payments\n",
    "plt.figure(figsize=(12, 8))\n",
    "cash_item_counts.head(10).plot(kind='bar')\n",
    "plt.title('Top 10 Bestselling Items (Cash)')\n",
    "plt.xlabel('Item Name')\n",
    "plt.ylabel('Quantity Sold')\n",
    "plt.xticks(rotation=90)\n",
    "plt.tight_layout()\n",
    "plt.show()\n",
    "\n",
    "# Create a bar chart for the top 10 best-selling items for QrPromptPay payments\n",
    "plt.figure(figsize=(12, 8))\n",
    "qrpromptpay_item_counts.head(10).plot(kind='bar')\n",
    "plt.title('Top 10 Bestselling Items (QrPromptPay)')\n",
    "plt.xlabel('Item Name')\n",
    "plt.ylabel('Quantity Sold')\n",
    "plt.xticks(rotation=90)\n",
    "plt.tight_layout()\n",
    "plt.show()"
   ]
  },
  {
   "cell_type": "markdown",
   "id": "109a6dbb",
   "metadata": {
    "id": "hIWejfwtAYL3",
    "papermill": {
     "duration": 0.1037,
     "end_time": "2025-08-14T02:01:03.146670",
     "exception": false,
     "start_time": "2025-08-14T02:01:03.042970",
     "status": "completed"
    },
    "tags": []
   },
   "source": [
    "##ลูกค้าที่มาคนเดียว กับลูกค้าที่มาเป็นกลุ่ม มีพฤติกรรมการสั่งอาหารแตกต่างกันอย่างไร?"
   ]
  },
  {
   "cell_type": "code",
   "execution_count": null,
   "id": "c4350734",
   "metadata": {
    "colab": {
     "base_uri": "https://localhost:8080/",
     "height": 1000
    },
    "execution": {
     "iopub.execute_input": "2025-08-14T02:01:03.355153Z",
     "iopub.status.busy": "2025-08-14T02:01:03.354153Z",
     "iopub.status.idle": "2025-08-14T02:01:03.398006Z",
     "shell.execute_reply": "2025-08-14T02:01:03.394999Z"
    },
    "id": "INdSyfxtT6rb",
    "outputId": "9b4f3d33-fc94-491f-935f-398c16238445",
    "papermill": {
     "duration": 0.154475,
     "end_time": "2025-08-14T02:01:03.403008",
     "exception": false,
     "start_time": "2025-08-14T02:01:03.248533",
     "status": "completed"
    },
    "tags": []
   },
   "outputs": [],
   "source": [
    "# Separate data for single customers and groups\n",
    "single_customers_df = df[df['จำนวนลูกค้า'] == 1]\n",
    "group_customers_df = df[df['จำนวนลูกค้า'] > 1]\n",
    "\n",
    "# Analyze popular items for single customers\n",
    "single_customer_item_counts = single_customers_df.groupby('รายละเอียดรายการ')['จำนวน'].sum().sort_values(ascending=False)\n",
    "\n",
    "print(\"รายการสินค้าที่ขายดีสำหรับลูกค้าที่มาคนเดียว:\")\n",
    "display(single_customer_item_counts.head(20))\n",
    "\n",
    "# Analyze popular items for group customers\n",
    "group_customer_item_counts = group_customers_df.groupby('รายละเอียดรายการ')['จำนวน'].sum().sort_values(ascending=False)\n",
    "\n",
    "print(\"\\nรายการสินค้าที่ขายดีสำหรับลูกค้าที่มาเป็นกลุ่ม:\")\n",
    "display(group_customer_item_counts.head(20))"
   ]
  },
  {
   "cell_type": "code",
   "execution_count": null,
   "id": "7c977fe9",
   "metadata": {
    "colab": {
     "base_uri": "https://localhost:8080/",
     "height": 1000
    },
    "execution": {
     "iopub.execute_input": "2025-08-14T02:01:03.613876Z",
     "iopub.status.busy": "2025-08-14T02:01:03.613876Z",
     "iopub.status.idle": "2025-08-14T02:01:05.390307Z",
     "shell.execute_reply": "2025-08-14T02:01:05.387294Z"
    },
    "id": "9pXUn_NrCBM3",
    "outputId": "8b433895-20d6-4a2e-e488-15de53a889a8",
    "papermill": {
     "duration": 1.882217,
     "end_time": "2025-08-14T02:01:05.395307",
     "exception": false,
     "start_time": "2025-08-14T02:01:03.513090",
     "status": "completed"
    },
    "tags": []
   },
   "outputs": [],
   "source": [
    "import matplotlib.pyplot as plt\n",
    "import matplotlib.font_manager as fm\n",
    "\n",
    "# Create a bar chart for the top 20 best-selling items for single customers\n",
    "plt.figure(figsize=(12, 8))\n",
    "single_customer_item_counts.head(20).plot(kind='bar')\n",
    "plt.title('Top 20 Bestselling Items (Single Customers)')\n",
    "plt.xlabel('Item Name')\n",
    "plt.ylabel('Quantity Sold')\n",
    "plt.xticks(rotation=90)\n",
    "plt.tight_layout()\n",
    "plt.show()\n",
    "\n",
    "# Create a bar chart for the top 20 best-selling items for group customers\n",
    "plt.figure(figsize=(12, 8))\n",
    "group_customer_item_counts.head(20).plot(kind='bar')\n",
    "plt.title('Top 20 Bestselling Items (Group Customers)')\n",
    "plt.xlabel('Item Name')\n",
    "plt.ylabel('Quantity Sold')\n",
    "plt.xticks(rotation=90)\n",
    "plt.tight_layout()\n",
    "plt.show()"
   ]
  },
  {
   "cell_type": "markdown",
   "id": "aacce61a",
   "metadata": {
    "id": "brQaXwRvBPOv",
    "papermill": {
     "duration": 0.108808,
     "end_time": "2025-08-14T02:01:05.621183",
     "exception": false,
     "start_time": "2025-08-14T02:01:05.512375",
     "status": "completed"
    },
    "tags": []
   },
   "source": [
    "##วันแบบไหนที่โต๊ะ 11 จะถูกใช้เยอะสุด (ต้องเชื่อมกับข้อมูลสภาพแวดล้อม) พร้อมสำหรับการเพิ่มราคาหรือยัง"
   ]
  },
  {
   "cell_type": "code",
   "execution_count": null,
   "id": "f9c8be85",
   "metadata": {
    "colab": {
     "base_uri": "https://localhost:8080/"
    },
    "execution": {
     "iopub.execute_input": "2025-08-14T02:01:05.851788Z",
     "iopub.status.busy": "2025-08-14T02:01:05.851788Z",
     "iopub.status.idle": "2025-08-14T02:01:05.867287Z",
     "shell.execute_reply": "2025-08-14T02:01:05.864187Z"
    },
    "id": "xIykfT0YUtXl",
    "outputId": "2aa88cba-bba7-453e-8e6a-0c17b3979b28",
    "papermill": {
     "duration": 0.136892,
     "end_time": "2025-08-14T02:01:05.872294",
     "exception": false,
     "start_time": "2025-08-14T02:01:05.735402",
     "status": "completed"
    },
    "tags": []
   },
   "outputs": [],
   "source": [
    "# Filter data for table 'ต11'\n",
    "table_11_df = df[df['หมายเลขโต๊ะ'] == 'ต11']\n",
    "\n",
    "# Get the number of unique dates for table 'ต11'\n",
    "unique_dates_table_11 = table_11_df['วันที่'].nunique()\n",
    "\n",
    "# Get the total number of unique dates in the dataset\n",
    "all_unique_dates = df['วันที่'].nunique()\n",
    "\n",
    "# Calculate the percentage\n",
    "percentage_table_11_used = (unique_dates_table_11 / all_unique_dates) * 100\n",
    "\n",
    "print(f\"เปอร์เซ็นต์ของวันที่ที่โต๊ะ ต11 ถูกใช้งาน: {percentage_table_11_used:.2f}%\")"
   ]
  },
  {
   "cell_type": "code",
   "execution_count": null,
   "id": "5d7218f4",
   "metadata": {
    "colab": {
     "base_uri": "https://localhost:8080/",
     "height": 674
    },
    "execution": {
     "iopub.execute_input": "2025-08-14T02:01:06.092715Z",
     "iopub.status.busy": "2025-08-14T02:01:06.091715Z",
     "iopub.status.idle": "2025-08-14T02:01:06.348323Z",
     "shell.execute_reply": "2025-08-14T02:01:06.345326Z"
    },
    "id": "mGo-lQKwCKi_",
    "outputId": "8a46de53-b5d5-48cd-a08c-d50b6bdb11fa",
    "papermill": {
     "duration": 0.373307,
     "end_time": "2025-08-14T02:01:06.353326",
     "exception": false,
     "start_time": "2025-08-14T02:01:05.980019",
     "status": "completed"
    },
    "tags": []
   },
   "outputs": [],
   "source": [
    "import matplotlib.pyplot as plt\n",
    "import matplotlib.font_manager as fm\n",
    "\n",
    "# Calculate the number of days table 'ต11' was not used\n",
    "days_table_11_not_used = all_unique_dates - unique_dates_table_11\n",
    "\n",
    "# Create a Series for the pie chart\n",
    "pie_data_usage = pd.Series({'โต๊ะ ต11 ถูกใช้งาน': unique_dates_table_11, 'โต๊ะ ต11 ไม่ถูกใช้งาน': days_table_11_not_used})\n",
    "\n",
    "# Create a pie chart\n",
    "plt.figure(figsize=(8, 8))\n",
    "plt.pie(pie_data_usage, labels=pie_data_usage.index, autopct='%1.1f%%', startangle=90)\n",
    "plt.title('Table ต11 Usage Proportion by Day')\n",
    "plt.axis('equal') # Equal aspect ratio ensures that pie is drawn as a circle.\n",
    "plt.show()"
   ]
  },
  {
   "cell_type": "markdown",
   "id": "545822ad",
   "metadata": {
    "id": "Lnr43BmOB6MM",
    "papermill": {
     "duration": 0.117728,
     "end_time": "2025-08-14T02:01:06.589753",
     "exception": false,
     "start_time": "2025-08-14T02:01:06.472025",
     "status": "completed"
    },
    "tags": []
   },
   "source": [
    "##ยอดขายเฉลี่ยต่อลูกค้าหนึ่งคน (Average Spend per Customer) เป็นเท่าไหร่ และจะเพิ่มได้อย่างไร?"
   ]
  },
  {
   "cell_type": "code",
   "execution_count": null,
   "id": "eca44199",
   "metadata": {
    "colab": {
     "base_uri": "https://localhost:8080/"
    },
    "execution": {
     "iopub.execute_input": "2025-08-14T02:01:06.811900Z",
     "iopub.status.busy": "2025-08-14T02:01:06.810900Z",
     "iopub.status.idle": "2025-08-14T02:01:06.832844Z",
     "shell.execute_reply": "2025-08-14T02:01:06.830928Z"
    },
    "id": "PgFQPj1OVEeT",
    "outputId": "6f8eb083-357b-402b-ff6c-77ecf8b68da4",
    "papermill": {
     "duration": 0.137644,
     "end_time": "2025-08-14T02:01:06.836938",
     "exception": false,
     "start_time": "2025-08-14T02:01:06.699294",
     "status": "completed"
    },
    "tags": []
   },
   "outputs": [],
   "source": [
    "# Filter the DataFrame to include only 'ก๋วยเตี๋ยว' or 'ตามสั่ง' items\n",
    "filtered_df = df[df['ประเภท'].isin(['ก๋วยเตี๋ยว', 'ตามสั่ง'])]\n",
    "\n",
    "# Calculate total revenue for the filtered items\n",
    "total_revenue_filtered = filtered_df['ราคา'].sum()\n",
    "\n",
    "# Calculate total number of customers for the filtered orders\n",
    "# We need to consider unique orders within the filtered data\n",
    "total_customers_filtered = filtered_df.groupby('เลขที่ใบเสร็จ')['จำนวนลูกค้า'].first().sum()\n",
    "\n",
    "\n",
    "# Calculate average spend per customer for the filtered items\n",
    "average_spend_per_customer_filtered = total_revenue_filtered / total_customers_filtered\n",
    "\n",
    "print(f\"ยอดขายเฉลี่ยต่อลูกค้าหนึ่งคน (เฉพาะรายการก๋วยเตี๋ยวและตามสั่ง): {average_spend_per_customer_filtered:.2f}\")"
   ]
  },
  {
   "cell_type": "code",
   "execution_count": null,
   "id": "f4363a8f",
   "metadata": {
    "colab": {
     "base_uri": "https://localhost:8080/",
     "height": 561
    },
    "execution": {
     "iopub.execute_input": "2025-08-14T02:01:06.999995Z",
     "iopub.status.busy": "2025-08-14T02:01:06.998988Z",
     "iopub.status.idle": "2025-08-14T02:01:07.351441Z",
     "shell.execute_reply": "2025-08-14T02:01:07.347426Z"
    },
    "id": "-U_Y01YUC0Sf",
    "outputId": "fe21e7a8-d411-415b-874b-5020c64eedb0",
    "papermill": {
     "duration": 0.452962,
     "end_time": "2025-08-14T02:01:07.355440",
     "exception": false,
     "start_time": "2025-08-14T02:01:06.902478",
     "status": "completed"
    },
    "tags": []
   },
   "outputs": [],
   "source": [
    "import matplotlib.pyplot as plt\n",
    "\n",
    "# Calculate total revenue per order\n",
    "order_revenue = df.groupby('เลขที่ใบเสร็จ')['ราคา'].sum()\n",
    "\n",
    "# Get the number of customers per order\n",
    "order_customers = df.groupby('เลขที่ใบเสร็จ')['จำนวนลูกค้า'].first()\n",
    "\n",
    "# Calculate revenue per customer for each order\n",
    "revenue_per_customer_per_order = order_revenue / order_customers\n",
    "\n",
    "# Add the hour to the revenue per customer series\n",
    "revenue_per_customer_per_order = pd.merge(revenue_per_customer_per_order.rename('revenue_per_customer'),\n",
    "                                          df.groupby('เลขที่ใบเสร็จ')['ชั่วโมง'].first(),\n",
    "                                          left_index=True, right_index=True)\n",
    "\n",
    "# Calculate the average revenue per customer per hour\n",
    "average_revenue_per_customer_per_hour = revenue_per_customer_per_order.groupby('ชั่วโมง')['revenue_per_customer'].mean()\n",
    "\n",
    "# Create a bar chart for hourly average revenue per customer\n",
    "plt.figure(figsize=(10, 6))\n",
    "bars = plt.bar(average_revenue_per_customer_per_hour.index, average_revenue_per_customer_per_hour.values, width=0.8, align='center')\n",
    "plt.xticks(average_revenue_per_customer_per_hour.index)\n",
    "plt.xlabel('Time')\n",
    "plt.ylabel('Average Sales per Customer')\n",
    "plt.title('Average Sales per Customer by Hour')\n",
    "plt.grid(axis='y', linestyle='--', alpha=0.7)\n",
    "\n",
    "# Add the overall average spend per customer as text on the plot\n",
    "# Ensure average_spend_per_customer_filtered is defined (from a previous cell)\n",
    "if 'average_spend_per_customer_filtered' in locals():\n",
    "    plt.text(0.5, 0.95, f\"ยอดขายเฉลี่ยต่อลูกค้าหนึ่งคน (เฉพาะรายการก๋วยเตี๋ยวและตามสั่ง): {average_spend_per_customer_filtered:.2f}\",\n",
    "             horizontalalignment='center', verticalalignment='center', transform=plt.gca().transAxes,\n",
    "             bbox=dict(boxstyle='round,pad=0.5', fc='wheat', alpha=0.5))\n",
    "\n",
    "plt.show()"
   ]
  },
  {
   "cell_type": "markdown",
   "id": "da81b023",
   "metadata": {
    "id": "5zvaGsqaQ1E3",
    "papermill": {
     "duration": 0.120541,
     "end_time": "2025-08-14T02:01:07.588776",
     "exception": false,
     "start_time": "2025-08-14T02:01:07.468235",
     "status": "completed"
    },
    "tags": []
   },
   "source": [
    "#เมนูไหนที่คนมักจะเพิ่มหรือสั่งพิเศษ"
   ]
  },
  {
   "cell_type": "code",
   "execution_count": null,
   "id": "69830140",
   "metadata": {
    "colab": {
     "base_uri": "https://localhost:8080/"
    },
    "execution": {
     "iopub.execute_input": "2025-08-14T02:01:07.842364Z",
     "iopub.status.busy": "2025-08-14T02:01:07.838367Z",
     "iopub.status.idle": "2025-08-14T02:01:07.863161Z",
     "shell.execute_reply": "2025-08-14T02:01:07.860056Z"
    },
    "id": "Exh6CT74WFxP",
    "outputId": "c0e30c38-4116-424c-ca97-f9d13f6ce46e",
    "papermill": {
     "duration": 0.159275,
     "end_time": "2025-08-14T02:01:07.868153",
     "exception": false,
     "start_time": "2025-08-14T02:01:07.708878",
     "status": "completed"
    },
    "tags": []
   },
   "outputs": [],
   "source": [
    "# Filter the DataFrame to include only 'ตามสั่ง' items\n",
    "tamsang_df = df[df['ประเภท'] == 'ตามสั่ง']\n",
    "\n",
    "# Calculate the average price of 'ตามสั่ง' items\n",
    "average_tamsang_price = tamsang_df['ราคา'].mean()\n",
    "\n",
    "print(f\"ราคาเฉลี่ยของรายการที่เป็น ตามสั่ง: {average_tamsang_price:.2f}\")"
   ]
  },
  {
   "cell_type": "code",
   "execution_count": null,
   "id": "d3ed4cba",
   "metadata": {
    "colab": {
     "base_uri": "https://localhost:8080/",
     "height": 310
    },
    "execution": {
     "iopub.execute_input": "2025-08-14T02:01:08.098573Z",
     "iopub.status.busy": "2025-08-14T02:01:08.098573Z",
     "iopub.status.idle": "2025-08-14T02:01:08.147361Z",
     "shell.execute_reply": "2025-08-14T02:01:08.144264Z"
    },
    "id": "IEVBpKf-E_rw",
    "outputId": "7451cb40-86fc-45dd-dff7-8f034071a0ae",
    "papermill": {
     "duration": 0.170499,
     "end_time": "2025-08-14T02:01:08.152361",
     "exception": false,
     "start_time": "2025-08-14T02:01:07.981862",
     "status": "completed"
    },
    "tags": []
   },
   "outputs": [],
   "source": [
    "items_to_clean = ['ก๋วยเตี๋ยวต้มยำทะเลน้ำ', 'ก๋วยเตี๋ยวต้มยำทะเลแห้ง', 'ก๋วยเตี๋ยวสุโขทัยแห้ง', 'ก๋วยเตี๋ยวสุโขทัยน้ำ']\n",
    "\n",
    "for item in items_to_clean:\n",
    "    df['รายละเอียดรายการ'] = df['รายละเอียดรายการ'].str.replace(item, item.replace('ก๋วยเตี๋ยว', '').strip())\n",
    "\n",
    "# Display the updated dataframe to verify the changes\n",
    "display(df[df['รายละเอียดรายการ'].isin(['ต้มยำทะเลน้ำ', 'ต้มยำทะเลแห้ง', 'สุโขทัยแห้ง', 'สุโขทัยน้ำ'])].head())"
   ]
  },
  {
   "cell_type": "code",
   "execution_count": null,
   "id": "b4cb65f5",
   "metadata": {
    "colab": {
     "base_uri": "https://localhost:8080/",
     "height": 774
    },
    "execution": {
     "iopub.execute_input": "2025-08-14T02:01:08.380546Z",
     "iopub.status.busy": "2025-08-14T02:01:08.379546Z",
     "iopub.status.idle": "2025-08-14T02:01:08.462676Z",
     "shell.execute_reply": "2025-08-14T02:01:08.459616Z"
    },
    "id": "BrJDY-WxWRPe",
    "outputId": "7b78d58d-9a3d-48d9-fc59-511f812e54ba",
    "papermill": {
     "duration": 0.201894,
     "end_time": "2025-08-14T02:01:08.467718",
     "exception": false,
     "start_time": "2025-08-14T02:01:08.265824",
     "status": "completed"
    },
    "tags": []
   },
   "outputs": [],
   "source": [
    "def identify_special_orders(row):\n",
    "    item = row['รายละเอียดรายการ']\n",
    "    price = row['ราคา']\n",
    "    item_type = row['ประเภท']\n",
    "\n",
    "    if item_type == 'ก๋วยเตี๋ยว':\n",
    "        if 'สุโขทัย' in item and price > 55:\n",
    "            return 'พิเศษ'\n",
    "        elif 'ต้มยำทะเล' in item and price > 70:\n",
    "            return 'พิเศษ'\n",
    "        elif 'ก๋วยเตี๋ยว' in item and price > 45:\n",
    "            return 'พิเศษ'\n",
    "    elif item_type == 'ตามสั่ง':\n",
    "        if price > 68.25: # Using the average price calculated earlier\n",
    "            return 'พิเศษ'\n",
    "    return 'ปกติ'\n",
    "\n",
    "df['ประเภทพิเศษ'] = df.apply(identify_special_orders, axis=1)\n",
    "\n",
    "special_orders = df[df['ประเภทพิเศษ'] == 'พิเศษ']\n",
    "\n",
    "print(\"รายการที่น่าจะมีการสั่งพิเศษ:\")\n",
    "display(special_orders.head())\n",
    "\n",
    "# Count special orders by item\n",
    "special_item_counts = special_orders.groupby('รายละเอียดรายการ')['จำนวน'].sum()\n",
    "\n",
    "# Count total orders by item\n",
    "total_item_counts = df.groupby('รายละเอียดรายการ')['จำนวน'].sum()\n",
    "\n",
    "# Calculate the percentage of special orders\n",
    "special_order_percentage = (special_item_counts / total_item_counts * 100).fillna(0).sort_values(ascending=False)\n",
    "\n",
    "print(\"\\nเปอร์เซ็นต์ของรายการที่น่าจะมีการสั่งพิเศษ (เรียงตามเปอร์เซ็นต์):\")\n",
    "display(special_order_percentage.head(10))"
   ]
  },
  {
   "cell_type": "code",
   "execution_count": null,
   "id": "e91134a5",
   "metadata": {
    "colab": {
     "base_uri": "https://localhost:8080/",
     "height": 807
    },
    "execution": {
     "iopub.execute_input": "2025-08-14T02:01:08.699250Z",
     "iopub.status.busy": "2025-08-14T02:01:08.698253Z",
     "iopub.status.idle": "2025-08-14T02:01:09.400102Z",
     "shell.execute_reply": "2025-08-14T02:01:09.397569Z"
    },
    "id": "YU8XVgCAFktj",
    "outputId": "152e2cbb-c50c-4a3d-f139-125f8ae223ca",
    "papermill": {
     "duration": 0.820682,
     "end_time": "2025-08-14T02:01:09.404108",
     "exception": false,
     "start_time": "2025-08-14T02:01:08.583426",
     "status": "completed"
    },
    "tags": []
   },
   "outputs": [],
   "source": [
    "import matplotlib.pyplot as plt\n",
    "import matplotlib.font_manager as fm\n",
    "\n",
    "# Plot a bar chart for the top 10 items with the highest percentage of special orders\n",
    "plt.figure(figsize=(12, 8))\n",
    "special_order_percentage.head(10).plot(kind='bar')\n",
    "plt.title('Top 10 Items by Percentage of Special Orders')\n",
    "plt.xlabel('Item Name')\n",
    "plt.ylabel('Percentage of Special Orders (%)')\n",
    "plt.xticks(rotation=90)\n",
    "plt.tight_layout()\n",
    "plt.show()"
   ]
  },
  {
   "cell_type": "markdown",
   "id": "f82dfad8",
   "metadata": {
    "id": "NYb0m1m3QYyj",
    "papermill": {
     "duration": 0.118252,
     "end_time": "2025-08-14T02:01:09.645419",
     "exception": false,
     "start_time": "2025-08-14T02:01:09.527167",
     "status": "completed"
    },
    "tags": []
   },
   "source": [
    "#เมนูไหนบ้างที่คนมักจะสั่งน้ำหรือเครื่องเคียงเพิ่ม"
   ]
  },
  {
   "cell_type": "code",
   "execution_count": null,
   "id": "2a9d802a",
   "metadata": {
    "colab": {
     "base_uri": "https://localhost:8080/",
     "height": 1000
    },
    "execution": {
     "iopub.execute_input": "2025-08-14T02:01:09.882627Z",
     "iopub.status.busy": "2025-08-14T02:01:09.881624Z",
     "iopub.status.idle": "2025-08-14T02:01:09.966976Z",
     "shell.execute_reply": "2025-08-14T02:01:09.964281Z"
    },
    "id": "y8VRmKD1Fzg_",
    "outputId": "6bafd3f0-e121-4973-edd8-ec481fcf9acc",
    "papermill": {
     "duration": 0.208795,
     "end_time": "2025-08-14T02:01:09.970985",
     "exception": false,
     "start_time": "2025-08-14T02:01:09.762190",
     "status": "completed"
    },
    "tags": []
   },
   "outputs": [],
   "source": [
    "# Group by เลขที่ใบเสร็จ and get a list of item details and types in each order\n",
    "order_items_details_and_types = df.groupby('เลขที่ใบเสร็จ').apply(lambda x: list(zip(x['รายละเอียดรายการ'], x['ประเภท'])))\n",
    "\n",
    "# Filter orders that contain both 'ก๋วยเตี๋ยว' or 'ตามสั่ง' and 'เครื่องเคียง' or 'เครื่องดื่ม'\n",
    "relevant_orders_details_and_types = order_items_details_and_types[order_items_details_and_types.apply(lambda x: any(item_type in ['ก๋วยเตี๋ยว', 'ตามสั่ง'] for item_detail, item_type in x) and any(item_type in ['เครื่องเคียง', 'เครื่องดื่ม'] for item_detail, item_type in x))]\n",
    "\n",
    "# For these relevant orders, find the specific 'ก๋วยเตี๋ยว' or 'ตามสั่ง' item details\n",
    "def get_main_item_details_with_additions(order_items_list):\n",
    "    main_item_details = [item_detail for item_detail, item_type in order_items_list if item_type in ['ก๋วยเตี๋ยว', 'ตามสั่ง']]\n",
    "    return main_item_details\n",
    "\n",
    "main_item_details_in_relevant_orders = relevant_orders_details_and_types.apply(get_main_item_details_with_additions)\n",
    "\n",
    "# Count the occurrences of each specific main item detail in these orders\n",
    "main_item_addition_details_counts = pd.Series([item for sublist in main_item_details_in_relevant_orders for item in sublist]).value_counts()\n",
    "\n",
    "print(\"จำนวนครั้งที่เมนูก๋วยเตี๋ยวหรือตามสั่งถูกสั่งพร้อมเครื่องเคียงหรือเครื่องดื่ม (เรียงจากมากไปน้อย):\")\n",
    "display(main_item_addition_details_counts)\n",
    "\n",
    "# To find which specific เครื่องเคียง or เครื่องดื่ม are ordered with which main items,\n",
    "# we would need a more complex Market Basket Analysis or pairwise analysis.\n",
    "# The current approach counts how often a main item appears in orders with additions."
   ]
  },
  {
   "cell_type": "code",
   "execution_count": null,
   "id": "85f03db3",
   "metadata": {
    "colab": {
     "base_uri": "https://localhost:8080/",
     "height": 1000
    },
    "execution": {
     "iopub.execute_input": "2025-08-14T02:01:10.479695Z",
     "iopub.status.busy": "2025-08-14T02:01:10.478693Z",
     "iopub.status.idle": "2025-08-14T02:01:10.504142Z",
     "shell.execute_reply": "2025-08-14T02:01:10.501128Z"
    },
    "id": "eh8dy9TyKiV7",
    "outputId": "0660e4fc-7fbf-4251-fcf1-aeec7f6e46d0",
    "papermill": {
     "duration": 0.157251,
     "end_time": "2025-08-14T02:01:10.508154",
     "exception": false,
     "start_time": "2025-08-14T02:01:10.350903",
     "status": "completed"
    },
    "tags": []
   },
   "outputs": [],
   "source": [
    "# Calculate the percentage of each main item ordered with additions\n",
    "# Use main_item_addition_details_counts from the previous cell and item_counts calculated earlier\n",
    "main_item_addition_percentage = (main_item_addition_details_counts / item_counts * 100).fillna(0).sort_values(ascending=False)\n",
    "\n",
    "print(\"เปอร์เซ็นต์ของเมนูก๋วยเตี๋ยวหรือตามสั่งที่ถูกสั่งพร้อมเครื่องเคียงหรือเครื่องดื่ม (เรียงจากมากไปน้อย):\")\n",
    "display(main_item_addition_percentage.head(30))"
   ]
  },
  {
   "cell_type": "code",
   "execution_count": null,
   "id": "517599a0",
   "metadata": {
    "colab": {
     "base_uri": "https://localhost:8080/",
     "height": 807
    },
    "execution": {
     "iopub.execute_input": "2025-08-14T02:01:10.802292Z",
     "iopub.status.busy": "2025-08-14T02:01:10.801291Z",
     "iopub.status.idle": "2025-08-14T02:01:12.036694Z",
     "shell.execute_reply": "2025-08-14T02:01:12.034067Z"
    },
    "id": "PBtCnhDQLdDs",
    "outputId": "aed130d1-5c5c-4e89-f65c-3531beea0395",
    "papermill": {
     "duration": 1.3702,
     "end_time": "2025-08-14T02:01:12.041700",
     "exception": false,
     "start_time": "2025-08-14T02:01:10.671500",
     "status": "completed"
    },
    "tags": []
   },
   "outputs": [],
   "source": [
    "import matplotlib.pyplot as plt\n",
    "import matplotlib.font_manager as fm\n",
    "\n",
    "# Plot a bar chart for the top 30 items with the highest percentage of additions\n",
    "plt.figure(figsize=(12, 8))\n",
    "main_item_addition_percentage.head(30).plot(kind='bar')\n",
    "plt.title('Top 30 Main Items by Percentage Ordered with Additions')\n",
    "plt.xlabel('Item Name')\n",
    "plt.ylabel('Percentage Ordered with Additions (%)')\n",
    "plt.xticks(rotation=90)\n",
    "plt.tight_layout()\n",
    "plt.show()"
   ]
  },
  {
   "cell_type": "markdown",
   "id": "e582d933",
   "metadata": {
    "id": "lhtCiTGaQnoU",
    "papermill": {
     "duration": 0.129626,
     "end_time": "2025-08-14T02:01:12.307460",
     "exception": false,
     "start_time": "2025-08-14T02:01:12.177834",
     "status": "completed"
    },
    "tags": []
   },
   "source": [
    "#ลูกค้ามากันกี่คนมีแนวโน้มจะสั่งเครื่องเคียงหรือน้ำเพิ่ม"
   ]
  },
  {
   "cell_type": "code",
   "execution_count": null,
   "id": "006c8643",
   "metadata": {
    "colab": {
     "base_uri": "https://localhost:8080/",
     "height": 561
    },
    "execution": {
     "iopub.execute_input": "2025-08-14T02:01:12.564394Z",
     "iopub.status.busy": "2025-08-14T02:01:12.563389Z",
     "iopub.status.idle": "2025-08-14T02:01:12.986434Z",
     "shell.execute_reply": "2025-08-14T02:01:12.983327Z"
    },
    "id": "AFMcp7stLwT6",
    "outputId": "b0f45299-ccb1-475a-d291-a339dad31d48",
    "papermill": {
     "duration": 0.554604,
     "end_time": "2025-08-14T02:01:12.991421",
     "exception": false,
     "start_time": "2025-08-14T02:01:12.436817",
     "status": "completed"
    },
    "tags": []
   },
   "outputs": [],
   "source": [
    "import matplotlib.pyplot as plt\n",
    "\n",
    "# Get the list of เลขที่ใบเสร็จ from the relevant_orders_details_and_types Series\n",
    "relevant_order_ids = relevant_orders_details_and_types.index\n",
    "\n",
    "# Filter the original DataFrame to include only these relevant orders\n",
    "relevant_orders_df = df[df['เลขที่ใบเสร็จ'].isin(relevant_order_ids)]\n",
    "\n",
    "# Plot a histogram of the 'จำนวนลูกค้า' column for these relevant orders\n",
    "plt.figure(figsize=(10, 6))\n",
    "plt.hist(relevant_orders_df['จำนวนลูกค้า'], bins=range(1, relevant_orders_df['จำนวนลูกค้า'].max() + 1), align='left', rwidth=0.8)\n",
    "plt.xticks(range(1, relevant_orders_df['จำนวนลูกค้า'].max() + 1))\n",
    "plt.xlabel('Number of Customers')\n",
    "plt.ylabel('Frequency of Orders with Additions')\n",
    "plt.title('Distribution of Customer Group Size in Orders with Additions')\n",
    "plt.grid(axis='y', linestyle='--', alpha=0.7)\n",
    "plt.show()"
   ]
  },
  {
   "cell_type": "code",
   "execution_count": null,
   "id": "15529872",
   "metadata": {
    "colab": {
     "base_uri": "https://localhost:8080/",
     "height": 446
    },
    "execution": {
     "iopub.execute_input": "2025-08-14T02:01:13.259032Z",
     "iopub.status.busy": "2025-08-14T02:01:13.258032Z",
     "iopub.status.idle": "2025-08-14T02:01:13.291768Z",
     "shell.execute_reply": "2025-08-14T02:01:13.289753Z"
    },
    "id": "gMH0ZdlAMbSs",
    "outputId": "877ebb75-899c-4cb9-e1a1-ca979a3380d1",
    "papermill": {
     "duration": 0.180638,
     "end_time": "2025-08-14T02:01:13.296769",
     "exception": false,
     "start_time": "2025-08-14T02:01:13.116131",
     "status": "completed"
    },
    "tags": []
   },
   "outputs": [],
   "source": [
    "# Group the original DataFrame by 'จำนวนลูกค้า' and count the total number of orders for each group size\n",
    "total_orders_by_group_size = df.groupby('จำนวนลูกค้า')['เลขที่ใบเสร็จ'].nunique()\n",
    "\n",
    "# Get the list of เลขที่ใบเสร็จ from the relevant_orders_details_and_types Series (orders with additions)\n",
    "relevant_order_ids = relevant_orders_details_and_types.index\n",
    "\n",
    "# Filter the original DataFrame to include only these relevant orders\n",
    "relevant_orders_df = df[df['เลขที่ใบเสร็จ'].isin(relevant_order_ids)]\n",
    "\n",
    "# Group the relevant orders DataFrame by 'จำนวนลูกค้า' and count the number of orders with additions for each group size\n",
    "orders_with_additions_by_group_size = relevant_orders_df.groupby('จำนวนลูกค้า')['เลขที่ใบเสร็จ'].nunique()\n",
    "\n",
    "# Calculate the percentage of orders with additions for each group size\n",
    "percentage_orders_with_additions = (orders_with_additions_by_group_size / total_orders_by_group_size * 100).fillna(0).sort_index()\n",
    "\n",
    "print(\"เปอร์เซ็นต์ของออเดอร์ที่มีการสั่งเครื่องเคียงหรือเครื่องดื่มเพิ่ม แบ่งตามจำนวนลูกค้า:\")\n",
    "display(percentage_orders_with_additions)\n",
    "\n",
    "# You can also visualize this data if needed, for example, with a bar chart.\n",
    "# plt.figure(figsize=(10, 6))\n",
    "# percentage_orders_with_additions.plot(kind='bar')\n",
    "# plt.xlabel('Number of Customers')\n",
    "# plt.ylabel('Percentage of Orders with Additions (%)')\n",
    "# plt.title('Percentage of Orders with Additions by Customer Group Size')\n",
    "# plt.xticks(rotation=0)\n",
    "# plt.grid(axis='y', linestyle='--', alpha=0.7)\n",
    "# plt.show()"
   ]
  },
  {
   "cell_type": "code",
   "execution_count": null,
   "id": "81741998",
   "metadata": {
    "colab": {
     "base_uri": "https://localhost:8080/",
     "height": 561
    },
    "execution": {
     "iopub.execute_input": "2025-08-14T02:01:13.567785Z",
     "iopub.status.busy": "2025-08-14T02:01:13.566786Z",
     "iopub.status.idle": "2025-08-14T02:01:13.995831Z",
     "shell.execute_reply": "2025-08-14T02:01:13.992736Z"
    },
    "id": "s0BZTcqrNFov",
    "outputId": "38d988d1-f22a-4bf7-f80c-05fecae31b5d",
    "papermill": {
     "duration": 0.56959,
     "end_time": "2025-08-14T02:01:14.000840",
     "exception": false,
     "start_time": "2025-08-14T02:01:13.431250",
     "status": "completed"
    },
    "tags": []
   },
   "outputs": [],
   "source": [
    "import matplotlib.pyplot as plt\n",
    "import matplotlib.font_manager as fm\n",
    "\n",
    "# Create a bar chart\n",
    "plt.figure(figsize=(10, 6))\n",
    "percentage_orders_with_additions.plot(kind='bar')\n",
    "plt.xlabel('Number of Customers')\n",
    "plt.ylabel('Percentage of Orders with Additions (%)')\n",
    "plt.title('Percentage of Orders with Additions by Customer Group Size')\n",
    "plt.xticks(rotation=0)\n",
    "plt.grid(axis='y', linestyle='--', alpha=0.7)\n",
    "plt.show()"
   ]
  },
  {
   "cell_type": "markdown",
   "id": "b2a031ee",
   "metadata": {
    "id": "KhWtB6u_CqkM",
    "papermill": {
     "duration": 0.126807,
     "end_time": "2025-08-14T02:01:14.262396",
     "exception": false,
     "start_time": "2025-08-14T02:01:14.135589",
     "status": "completed"
    },
    "tags": []
   },
   "source": [
    "##Market Basket Analysis"
   ]
  },
  {
   "cell_type": "code",
   "execution_count": null,
   "id": "db8a9b25",
   "metadata": {
    "colab": {
     "base_uri": "https://localhost:8080/",
     "height": 1000
    },
    "execution": {
     "iopub.execute_input": "2025-08-14T02:01:14.525234Z",
     "iopub.status.busy": "2025-08-14T02:01:14.525234Z",
     "iopub.status.idle": "2025-08-14T02:01:16.820829Z",
     "shell.execute_reply": "2025-08-14T02:01:16.819221Z"
    },
    "id": "a4aa233d",
    "outputId": "6789710b-4cd6-4ce9-8207-f06a51755f19",
    "papermill": {
     "duration": 2.430487,
     "end_time": "2025-08-14T02:01:16.823922",
     "exception": false,
     "start_time": "2025-08-14T02:01:14.393435",
     "status": "completed"
    },
    "tags": []
   },
   "outputs": [],
   "source": [
    "!pip install mlxtend\n",
    "import pandas as pd\n",
    "from mlxtend.frequent_patterns import apriori, association_rules\n",
    "\n",
    "# Prepare the data for Market Basket Analysis\n",
    "# We need a one-hot encoded DataFrame where each row is an order (เลขที่ใบเสร็จ)\n",
    "# and each column is an item (รายละเอียดรายการ), with a value of 1 if the item\n",
    "# is in the order and 0 otherwise.\n",
    "\n",
    "# Group items by order and put them in a list\n",
    "transactions = df.groupby('เลขที่ใบเสร็จ')['รายละเอียดรายการ'].apply(list).reset_index()\n",
    "\n",
    "# Create a one-hot encoded DataFrame\n",
    "# First, create a list of unique items\n",
    "all_items = sorted(list(df['รายละเอียดรายการ'].unique()))\n",
    "\n",
    "# Create a DataFrame of zeros with orders as index and items as columns\n",
    "one_hot_df = pd.DataFrame(0, index=transactions['เลขที่ใบเสร็จ'], columns=all_items)\n",
    "\n",
    "# Populate the one-hot encoded DataFrame\n",
    "for index, row in transactions.iterrows():\n",
    "    order_id = row['เลขที่ใบเสร็จ']\n",
    "    items_in_order = row['รายละเอียดรายการ']\n",
    "    for item in items_in_order:\n",
    "        if item in one_hot_df.columns: # Check if item is in columns (should be as we used unique items)\n",
    "             one_hot_df.loc[order_id, item] = 1\n",
    "\n",
    "# Apply the Apriori algorithm\n",
    "# Adjust the min_support as needed based on your data and desired frequency\n",
    "frequent_itemsets = apriori(one_hot_df, min_support=0.01, use_colnames=True)\n",
    "\n",
    "# Generate association rules\n",
    "rules = association_rules(frequent_itemsets, metric=\"lift\", min_threshold=1)\n",
    "\n",
    "# Display the frequent itemsets and association rules\n",
    "print(\"Frequent Itemsets:\")\n",
    "display(frequent_itemsets)\n",
    "\n",
    "print(\"\\nAssociation Rules:\")\n",
    "display(rules)"
   ]
  },
  {
   "cell_type": "code",
   "execution_count": null,
   "id": "0dd048ef",
   "metadata": {
    "colab": {
     "base_uri": "https://localhost:8080/",
     "height": 373
    },
    "execution": {
     "iopub.execute_input": "2025-08-14T02:01:17.288733Z",
     "iopub.status.busy": "2025-08-14T02:01:17.287735Z",
     "iopub.status.idle": "2025-08-14T02:01:18.839580Z",
     "shell.execute_reply": "2025-08-14T02:01:18.836584Z"
    },
    "id": "76d2qMesRBrL",
    "outputId": "1c65bb78-c8a5-46f6-84b1-1d4bc43a1268",
    "papermill": {
     "duration": 1.689008,
     "end_time": "2025-08-14T02:01:18.844579",
     "exception": false,
     "start_time": "2025-08-14T02:01:17.155571",
     "status": "completed"
    },
    "tags": []
   },
   "outputs": [],
   "source": [
    "import matplotlib.pyplot as plt\n",
    "import matplotlib.font_manager as fm\n",
    "import numpy as np\n",
    "import matplotlib.patches as mpatches # Import mpatches for custom legend handles\n",
    "\n",
    "# Sort rules by lift to highlight the most interesting ones\n",
    "rules_sorted_by_lift = rules.sort_values(by='lift', ascending=False).reset_index(drop=True)\n",
    "\n",
    "# Select top N rules for plotting (adjust N as needed)\n",
    "top_n_rules = rules_sorted_by_lift.head(10) # Let's plot top 10 rules\n",
    "\n",
    "# Increase figure width\n",
    "plt.figure(figsize=(15, 8))\n",
    "\n",
    "# Create a list of unique item pairs in the top N rules\n",
    "item_pairs = [f'{list(row[\"antecedents\"])} -> {list(row[\"consequents\"])}' for index, row in top_n_rules.iterrows()]\n",
    "unique_item_pairs = list(dict.fromkeys(item_pairs)) # Get unique pairs while preserving order\n",
    "\n",
    "# Assign a unique color to each unique item pair\n",
    "colors = plt.cm.get_cmap('tab10', len(unique_item_pairs)) # Using a colormap\n",
    "\n",
    "# Plot each rule with color based on the item pair and size based on lift\n",
    "scatter_handles = [] # To store handles for the legend\n",
    "for index, row in top_n_rules.iterrows():\n",
    "    item_pair_str = f'{list(row[\"antecedents\"])} -> {list(row[\"consequents\"])}'\n",
    "    color_index = unique_item_pairs.index(item_pair_str)\n",
    "    plt.scatter(row['support'], row['confidence'], s=row['lift']*100, color=colors(color_index))\n",
    "\n",
    "    # Create a legend handle with only color for each unique item pair\n",
    "    if item_pair_str not in [h.get_label() for h in scatter_handles]:\n",
    "        patch = mpatches.Patch(color=colors(color_index), label=item_pair_str)\n",
    "        scatter_handles.append(patch)\n",
    "\n",
    "\n",
    "# Add labels and title\n",
    "plt.xlabel('Support')\n",
    "plt.ylabel('Confidence')\n",
    "plt.title('Association Rules: Support vs. Confidence (Colored by Item Pair, Size by Lift)')\n",
    "plt.grid(True)\n",
    "\n",
    "# Create a legend for the item pairs using the custom handles\n",
    "plt.legend(handles=scatter_handles, title='Item Pairs', bbox_to_anchor=(1.05, 1), loc='upper left', labelspacing=1.5)\n",
    "\n",
    "\n",
    "plt.tight_layout(rect=[0, 0, 0.8, 1]) # Adjust layout to make room for the legend\n",
    "\n",
    "plt.show()"
   ]
  },
  {
   "cell_type": "code",
   "execution_count": null,
   "id": "93f76c41",
   "metadata": {
    "execution": {
     "iopub.execute_input": "2025-08-14T02:01:19.149363Z",
     "iopub.status.busy": "2025-08-14T02:01:19.147369Z",
     "iopub.status.idle": "2025-08-14T02:01:20.715127Z",
     "shell.execute_reply": "2025-08-14T02:01:20.713112Z"
    },
    "papermill": {
     "duration": 1.721942,
     "end_time": "2025-08-14T02:01:20.720127",
     "exception": false,
     "start_time": "2025-08-14T02:01:18.998185",
     "status": "completed"
    },
    "tags": []
   },
   "outputs": [],
   "source": [
    "import networkx as nx\n",
    "import matplotlib.pyplot as plt\n",
    "import matplotlib.font_manager as fm\n",
    "\n",
    "# Create a directed graph\n",
    "G = nx.DiGraph()\n",
    "\n",
    "# Add nodes (items) to the graph\n",
    "# Correctly combine antecedents and consequents\n",
    "all_itemsets = pd.concat([rules['antecedents'], rules['consequents']])\n",
    "for itemset in all_itemsets:\n",
    "    for item in itemset:\n",
    "        G.add_node(item)\n",
    "\n",
    "\n",
    "# Add edges (rules) to the graph\n",
    "for index, row in rules.iterrows():\n",
    "    antecedent = list(row['antecedents'])\n",
    "    consequent = list(row['consequents'])\n",
    "    # For simplicity in visualization, let's assume each rule connects the first item\n",
    "    # of the antecedent to the first item of the consequent.\n",
    "    # For more complex rules (multiple items in antecedent/consequent),\n",
    "    # you might need a different representation.\n",
    "    if len(antecedent) > 0 and len(consequent) > 0:\n",
    "        # Choose a representative item for the edge if antecedent/consequent are itemsets\n",
    "        # Here we take the first item, you might need a different logic\n",
    "        from_item = list(row['antecedents'])[0]\n",
    "        to_item = list(row['consequents'])[0]\n",
    "        G.add_edge(from_item, to_item, lift=row['lift'], confidence=row['confidence'], support=row['support'])\n",
    "\n",
    "\n",
    "# Draw the graph\n",
    "plt.figure(figsize=(12, 10))\n",
    "pos = nx.spring_layout(G, k=0.5, iterations=50)  # Use spring layout for better visualization\n",
    "\n",
    "# Draw nodes\n",
    "nx.draw_networkx_nodes(G, pos, node_size=3000, node_color='skyblue', alpha=0.9)\n",
    "\n",
    "# Draw edges with varying thickness based on lift\n",
    "edge_widths = [d['lift'] for (u, v, d) in G.edges(data=True)]\n",
    "# Normalize edge widths for better visualization if needed\n",
    "max_width = max(edge_widths) if edge_widths else 1\n",
    "normalized_widths = [w / max_width * 5 for w in edge_widths] # Scale to a max width of 5\n",
    "\n",
    "\n",
    "nx.draw_networkx_edges(G, pos, edgelist=G.edges(), width=normalized_widths, arrowstyle='->', arrowsize=20, edge_color='gray', alpha=0.6)\n",
    "\n",
    "# Draw labels\n",
    "nx.draw_networkx_labels(G, pos, font_size=10, font_family='Sarabun')\n",
    "\n",
    "# Add title\n",
    "plt.title('Association Rules Network Graph (Edge Width by Lift)')\n",
    "plt.axis('off') # Hide axes\n",
    "plt.show()"
   ]
  },
  {
   "cell_type": "code",
   "execution_count": null,
   "id": "113d9033",
   "metadata": {
    "execution": {
     "iopub.execute_input": "2025-08-14T02:01:21.003934Z",
     "iopub.status.busy": "2025-08-14T02:01:21.001931Z",
     "iopub.status.idle": "2025-08-14T02:01:21.108322Z",
     "shell.execute_reply": "2025-08-14T02:01:21.105329Z"
    },
    "papermill": {
     "duration": 0.252179,
     "end_time": "2025-08-14T02:01:21.112322",
     "exception": false,
     "start_time": "2025-08-14T02:01:20.860143",
     "status": "completed"
    },
    "tags": []
   },
   "outputs": [],
   "source": [
    "rules.to_excel(\"Market_Basket_rules.xlsx\", index=False)\n",
    "\n",
    "print(\"บันทึกไฟล์ Market_Basket_rules.xlsx เรียบร้อยแล้ว\")"
   ]
  }
 ],
 "metadata": {
  "colab": {
   "provenance": []
  },
  "kernelspec": {
   "display_name": "Python [conda env:base] *",
   "language": "python",
   "name": "conda-base-py"
  },
  "language_info": {
   "codemirror_mode": {
    "name": "ipython",
    "version": 3
   },
   "file_extension": ".py",
   "mimetype": "text/x-python",
   "name": "python",
   "nbconvert_exporter": "python",
   "pygments_lexer": "ipython3",
   "version": "3.12.7"
  },
  "papermill": {
   "default_parameters": {},
   "duration": 41.956539,
   "end_time": "2025-08-14T02:01:22.268617",
   "environment_variables": {},
   "exception": null,
   "input_path": "C:\\Users\\pao5_\\Pao_Project\\nd_1click\\02_gpos\\gpos_analysis.ipynb",
   "output_path": "C:\\Users\\pao5_\\Pao_Project\\nd_1click\\02_gpos\\gpos_analysis.ipynb",
   "parameters": {},
   "start_time": "2025-08-14T02:00:40.312078",
   "version": "2.6.0"
  }
 },
 "nbformat": 4,
 "nbformat_minor": 5
}
